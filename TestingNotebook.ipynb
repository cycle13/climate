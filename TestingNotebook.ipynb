{
 "cells": [
  {
   "cell_type": "code",
   "execution_count": null,
   "metadata": {},
   "outputs": [
    {
     "data": {
      "text/html": [
       "<script>Jupyter.notebook.kernel.restart()</script>"
      ],
      "text/plain": [
       "<IPython.core.display.HTML object>"
      ]
     },
     "execution_count": 4,
     "metadata": {},
     "output_type": "execute_result"
    }
   ],
   "source": [
    "from IPython.core.display import HTML\n",
    "HTML(\"<script>Jupyter.notebook.kernel.restart()</script>\")"
   ]
  },
  {
   "cell_type": "code",
   "execution_count": 1,
   "metadata": {},
   "outputs": [],
   "source": [
    "import functions\n",
    "human = functions.Human()"
   ]
  },
  {
   "cell_type": "code",
   "execution_count": 2,
   "metadata": {},
   "outputs": [
    {
     "data": {
      "text/plain": [
       "(35, 'male', 1675.8)"
      ]
     },
     "execution_count": 2,
     "metadata": {},
     "output_type": "execute_result"
    }
   ],
   "source": [
    "human.age, human.gender, human.basal_metabolic_rate()"
   ]
  },
  {
   "cell_type": "code",
   "execution_count": 3,
   "metadata": {},
   "outputs": [
    {
     "name": "stdout",
     "output_type": "stream",
     "text": [
      "Help on Human in module functions object:\n",
      "\n",
      "class Human(builtins.object)\n",
      " |  Human(age: int = 35, gender: str = 'male', height: float = 1.75, weight: float = 75, position: str = 'standing', orientation: float = 0, clothingInsulation: float = None, clothingAlbedo: float = 0.37, acclimation: bool = False, metabolicRate: float = 2.32)\n",
      " |  \n",
      " |  Defines a single human, with physiological attributes against which comfort will be evaluated\n",
      " |  \n",
      " |  Methods defined here:\n",
      " |  \n",
      " |  __init__(self, age: int = 35, gender: str = 'male', height: float = 1.75, weight: float = 75, position: str = 'standing', orientation: float = 0, clothingInsulation: float = None, clothingAlbedo: float = 0.37, acclimation: bool = False, metabolicRate: float = 2.32)\n",
      " |      :param age: Age of the human\n",
      " |      :param gender: Gender of the human - either \"male\" or \"female\"\n",
      " |      :param height: Height of the human (m)\n",
      " |      :param weight: Weight of the human (kg)\n",
      " |      :param position: Body position - either \"seated\" or \"standing\"\n",
      " |      :param orientation: Human facing direction - clockwise from 0 at north\n",
      " |      :param clothingInsulation: clo value - see Human.clothingInsulationDict()\n",
      " |      :param clothingAlbedo: clothing reflectivity value - see clothingAlbedoDict()\n",
      " |      :param acclimation: Whether the human is acclimated to evaluated conditions\n",
      " |      :param metabolicRate: met value - see metabolicRateDict()\n",
      " |  \n",
      " |  basal_metabolic_rate(self)\n",
      " |  \n",
      " |  body_mass_index(self)\n",
      " |  \n",
      " |  body_mass_index_category(self)\n",
      " |  \n",
      " |  clothing_albedo_dict()\n",
      " |  \n",
      " |  clothing_insulation_dict()\n",
      " |      # Helper functions - might be temporary - who knows\n",
      " |  \n",
      " |  metabolic_rate_dict()\n",
      " |  \n",
      " |  ----------------------------------------------------------------------\n",
      " |  Data descriptors defined here:\n",
      " |  \n",
      " |  __dict__\n",
      " |      dictionary for instance variables (if defined)\n",
      " |  \n",
      " |  __weakref__\n",
      " |      list of weak references to the object (if defined)\n",
      "\n"
     ]
    }
   ],
   "source": [
    "help(functions.Human())"
   ]
  },
  {
   "cell_type": "code",
   "execution_count": 4,
   "metadata": {},
   "outputs": [
    {
     "data": {
      "text/plain": [
       "82.4"
      ]
     },
     "execution_count": 4,
     "metadata": {},
     "output_type": "execute_result"
    }
   ],
   "source": [
    "functions.celsius_to_fahrenheit(28)"
   ]
  },
  {
   "cell_type": "code",
   "execution_count": 5,
   "metadata": {},
   "outputs": [
    {
     "data": {
      "text/plain": [
       "273.15"
      ]
     },
     "execution_count": 5,
     "metadata": {},
     "output_type": "execute_result"
    }
   ],
   "source": [
    "functions.celsius_to_kelvin(0)"
   ]
  },
  {
   "cell_type": "code",
   "execution_count": 6,
   "metadata": {},
   "outputs": [
    {
     "data": {
      "text/plain": [
       "28.000000000000004"
      ]
     },
     "execution_count": 6,
     "metadata": {},
     "output_type": "execute_result"
    }
   ],
   "source": [
    "functions.fahrenheit_to_celsius(82.4)"
   ]
  },
  {
   "cell_type": "code",
   "execution_count": 7,
   "metadata": {},
   "outputs": [
    {
     "data": {
      "text/plain": [
       "(21.038888888888884, 0, True)"
      ]
     },
     "execution_count": 7,
     "metadata": {},
     "output_type": "execute_result"
    }
   ],
   "source": [
    "functions.heat_index(22, 30)"
   ]
  },
  {
   "cell_type": "code",
   "execution_count": 8,
   "metadata": {},
   "outputs": [
    {
     "data": {
      "text/plain": [
       "9.254294282076941"
      ]
     },
     "execution_count": 8,
     "metadata": {},
     "output_type": "execute_result"
    }
   ],
   "source": [
    "functions.dewpoint_temperature(20, 50)"
   ]
  },
  {
   "cell_type": "code",
   "execution_count": 9,
   "metadata": {},
   "outputs": [
    {
     "data": {
      "text/plain": [
       "(20.917678437748936, 0, True)"
      ]
     },
     "execution_count": 9,
     "metadata": {},
     "output_type": "execute_result"
    }
   ],
   "source": [
    "functions.humidity_index(20, 9.2)"
   ]
  },
  {
   "cell_type": "code",
   "execution_count": 10,
   "metadata": {},
   "outputs": [
    {
     "data": {
      "text/plain": [
       "(18.4875, 6, True)"
      ]
     },
     "execution_count": 10,
     "metadata": {},
     "output_type": "execute_result"
    }
   ],
   "source": [
    "functions.discomfort_index(20, 50)"
   ]
  },
  {
   "cell_type": "code",
   "execution_count": 11,
   "metadata": {},
   "outputs": [
    {
     "data": {
      "text/plain": [
       "(-3.0399222228067426, 1, False)"
      ]
     },
     "execution_count": 11,
     "metadata": {},
     "output_type": "execute_result"
    }
   ],
   "source": [
    "functions.wind_chill_temperature(0, 2.5)"
   ]
  },
  {
   "cell_type": "code",
   "execution_count": 12,
   "metadata": {},
   "outputs": [
    {
     "data": {
      "text/plain": [
       "(12.83225332, 0, True)"
      ]
     },
     "execution_count": 12,
     "metadata": {},
     "output_type": "execute_result"
    }
   ],
   "source": [
    "functions.wet_bulb_globe_temperature_outdoors(15, 15, 10253, 1)"
   ]
  },
  {
   "cell_type": "code",
   "execution_count": 13,
   "metadata": {},
   "outputs": [
    {
     "data": {
      "text/plain": [
       "(13.328, 2, False)"
      ]
     },
     "execution_count": 13,
     "metadata": {},
     "output_type": "execute_result"
    }
   ],
   "source": [
    "functions.effective_temperature(14, 58, 0.1, 0, 0.5)"
   ]
  },
  {
   "cell_type": "code",
   "execution_count": 25,
   "metadata": {},
   "outputs": [
    {
     "data": {
      "text/plain": [
       "1.2128125949042536"
      ]
     },
     "execution_count": 25,
     "metadata": {},
     "output_type": "execute_result"
    }
   ],
   "source": [
    "functions.wind_speed_at_height(1, 10, 100, log=True)"
   ]
  },
  {
   "cell_type": "code",
   "execution_count": 28,
   "metadata": {},
   "outputs": [
    {
     "data": {
      "text/plain": [
       "(19.0, 23.0)"
      ]
     },
     "execution_count": 28,
     "metadata": {},
     "output_type": "execute_result"
    },
    {
     "data": {
      "image/png": "[encoded data removed]",
      "text/plain": [
       "<Figure size 360x360 with 1 Axes>"
      ]
     },
     "metadata": {
      "needs_background": "light"
     },
     "output_type": "display_data"
    }
   ],
   "source": [
    "import numpy as np\n",
    "import matplotlib.pyplot as plt\n",
    "\n",
    "depths = np.linspace(0, 5, 100)\n",
    "days_since = np.arange(0, 365, 1)\n",
    "\n",
    "depth = 5\n",
    "days_since_cold = 4\n",
    "soil_diffusivity = 0.02\n",
    "avg_annual_temp = 21\n",
    "temp_swing = 4\n",
    "\n",
    "fig, ax = plt.subplots(1, 1, figsize=(5, 5))\n",
    "xs = [functions.estimate_ground_temperature_at_depth(depth, avg_annual_temp, temp_swing, days_since_cold, soil_diffusivity) for depth in depths]\n",
    "ax.plot(xs, depths)\n",
    "ax.invert_yaxis()\n",
    "ax.set_xlim([avg_annual_temp-temp_swing/2, avg_annual_temp+temp_swing/2])"
   ]
  },
  {
   "cell_type": "code",
   "execution_count": 56,
   "metadata": {},
   "outputs": [
    {
     "name": "stdout",
     "output_type": "stream",
     "text": [
      "21\n",
      "15\n",
      "0.02\n",
      "4\n",
      "5\n",
      "21.56301529313202\n"
     ]
    }
   ],
   "source": [
    "import math\n",
    "\n",
    "# http://www.forschung-geotechnik.org/Forschung/Geothermik/temperaturmodell.htm\n",
    "\n",
    "soil_diffusivities = {\n",
    "    \"Rock\": 0.02,\n",
    "    \"Wet clay\": 0.015,\n",
    "    \"Wet sand\": 0.01,\n",
    "    \"Dry clay\": 0.002,\n",
    "    \"Dry sand\": 0.001\n",
    "}\n",
    "\n",
    "angular_frequency = 2 * math.pi / 365\n",
    "soil_thermal_diffusivity = soil_diffusivities[\"Rock\"]\n",
    "damping_depth = math.sqrt(2 * soil_thermal_diffusivity / angular_frequency)\n",
    "annual_average_air_temperature = 21\n",
    "max_avg_temperature_offset = 15\n",
    "days_since_coldest_day = 4\n",
    "depth = 5\n",
    "\n",
    "\n",
    "ground_temperature = annual_average_air_temperature - max_avg_temperature_offset * math.exp(-depth / damping_depth) * math.cos((angular_frequency * days_since_coldest_day) - (depth / damping_depth))\n",
    "\n",
    "print(\"{0:}\\n{1:}\\n{2:}\\n{3:}\\n{4:}\\n{5:}\".format(annual_average_air_temperature, max_avg_temperature_offset, soil_thermal_diffusivity, days_since_coldest_day, depth, ground_temperature))\n"
   ]
  }
 ],
 "metadata": {
  "kernelspec": {
   "display_name": "Python 3",
   "language": "python",
   "name": "python3"
  },
  "language_info": {
   "codemirror_mode": {
    "name": "ipython",
    "version": 3
   },
   "file_extension": ".py",
   "mimetype": "text/x-python",
   "name": "python",
   "nbconvert_exporter": "python",
   "pygments_lexer": "ipython3",
   "version": "3.7.0"
  }
 },
 "nbformat": 4,
 "nbformat_minor": 2
}
