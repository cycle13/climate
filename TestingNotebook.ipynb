{
 "cells": [
  {
   "cell_type": "code",
   "execution_count": null,
   "metadata": {},
   "outputs": [
    {
     "data": {
      "text/html": [
       "<script>Jupyter.notebook.kernel.restart()</script>"
      ],
      "text/plain": [
       "<IPython.core.display.HTML object>"
      ]
     },
     "execution_count": 36,
     "metadata": {},
     "output_type": "execute_result"
    }
   ],
   "source": [
    "from IPython.core.display import HTML\n",
    "HTML(\"<script>Jupyter.notebook.kernel.restart()</script>\")"
   ]
  },
  {
   "cell_type": "code",
   "execution_count": 31,
   "metadata": {},
   "outputs": [
    {
     "data": {
      "text/plain": [
       "<functions.Human at 0x20d72a57be0>"
      ]
     },
     "execution_count": 31,
     "metadata": {},
     "output_type": "execute_result"
    }
   ],
   "source": [
    "import functions\n",
    "human = functions.Human()\n",
    "\n",
    "human"
   ]
  },
  {
   "cell_type": "code",
   "execution_count": 4,
   "metadata": {},
   "outputs": [
    {
     "data": {
      "text/plain": [
       "(35, 'male', 1675.8, 24.489795918367346)"
      ]
     },
     "execution_count": 4,
     "metadata": {},
     "output_type": "execute_result"
    }
   ],
   "source": [
    "human.age, human.gender, human.basal_metabolic_rate(), human.body_mass_index()"
   ]
  },
  {
   "cell_type": "code",
   "execution_count": 2,
   "metadata": {},
   "outputs": [
    {
     "name": "stdout",
     "output_type": "stream",
     "text": [
      "Help on Human in module functions object:\n",
      "\n",
      "class Human(builtins.object)\n",
      " |  Defines a single human, with physiological attributes against which comfort will be evaluated\n",
      " |  \n",
      " |  Methods defined here:\n",
      " |  \n",
      " |  __init__(self, age:int=35, gender:str='male', height:float=1.75, weight:float=75, position:str='standing', orientation:float=0, clothingInsulation:float=None, clothingAlbedo:float=0.37, acclimation:bool=False, metabolicRate:float=2.32)\n",
      " |      :param age: Age of the human\n",
      " |      :param gender: Gender of the human - either \"male\" or \"female\"\n",
      " |      :param height: Height of the human (m)\n",
      " |      :param weight: Weight of the human (kg)\n",
      " |      :param position: Body position - either \"seated\" or \"standing\"\n",
      " |      :param orientation: Human facing direction - clockwise from 0 at north\n",
      " |      :param clothingInsulation: clo value - see Human.clothingInsulationDict()\n",
      " |      :param clothingAlbedo: clothing reflectivity value - see clothingAlbedoDict()\n",
      " |      :param acclimation: Whether the human is acclimated to evaluated conditions\n",
      " |      :param metabolicRate: met value - see metabolicRateDict()\n",
      " |  \n",
      " |  basal_metabolic_rate(self)\n",
      " |  \n",
      " |  body_mass_index(self)\n",
      " |      Return the Body Mass Index of the Human instance\n",
      " |      :return: Body Mass Index\n",
      " |      :rtype: float\n",
      " |  \n",
      " |  body_mass_index_category(self)\n",
      " |  \n",
      " |  clothing_albedo_dict(self)\n",
      " |  \n",
      " |  clothing_insulation_dict(self)\n",
      " |      # Helper functions - might be temporary - who knows\n",
      " |  \n",
      " |  metabolic_rate_dict(self)\n",
      " |  \n",
      " |  ----------------------------------------------------------------------\n",
      " |  Data descriptors defined here:\n",
      " |  \n",
      " |  __dict__\n",
      " |      dictionary for instance variables (if defined)\n",
      " |  \n",
      " |  __weakref__\n",
      " |      list of weak references to the object (if defined)\n",
      "\n"
     ]
    }
   ],
   "source": [
    "help(functions.Human())"
   ]
  },
  {
   "cell_type": "code",
   "execution_count": 4,
   "metadata": {},
   "outputs": [
    {
     "name": "stdout",
     "output_type": "stream",
     "text": [
      "Help on float object:\n",
      "\n",
      "class float(object)\n",
      " |  float(x) -> floating point number\n",
      " |  \n",
      " |  Convert a string or number to a floating point number, if possible.\n",
      " |  \n",
      " |  Methods defined here:\n",
      " |  \n",
      " |  __abs__(self, /)\n",
      " |      abs(self)\n",
      " |  \n",
      " |  __add__(self, value, /)\n",
      " |      Return self+value.\n",
      " |  \n",
      " |  __bool__(self, /)\n",
      " |      self != 0\n",
      " |  \n",
      " |  __divmod__(self, value, /)\n",
      " |      Return divmod(self, value).\n",
      " |  \n",
      " |  __eq__(self, value, /)\n",
      " |      Return self==value.\n",
      " |  \n",
      " |  __float__(self, /)\n",
      " |      float(self)\n",
      " |  \n",
      " |  __floordiv__(self, value, /)\n",
      " |      Return self//value.\n",
      " |  \n",
      " |  __format__(...)\n",
      " |      float.__format__(format_spec) -> string\n",
      " |      \n",
      " |      Formats the float according to format_spec.\n",
      " |  \n",
      " |  __ge__(self, value, /)\n",
      " |      Return self>=value.\n",
      " |  \n",
      " |  __getattribute__(self, name, /)\n",
      " |      Return getattr(self, name).\n",
      " |  \n",
      " |  __getformat__(...) from builtins.type\n",
      " |      float.__getformat__(typestr) -> string\n",
      " |      \n",
      " |      You probably don't want to use this function.  It exists mainly to be\n",
      " |      used in Python's test suite.\n",
      " |      \n",
      " |      typestr must be 'double' or 'float'.  This function returns whichever of\n",
      " |      'unknown', 'IEEE, big-endian' or 'IEEE, little-endian' best describes the\n",
      " |      format of floating point numbers used by the C type named by typestr.\n",
      " |  \n",
      " |  __getnewargs__(...)\n",
      " |  \n",
      " |  __gt__(self, value, /)\n",
      " |      Return self>value.\n",
      " |  \n",
      " |  __hash__(self, /)\n",
      " |      Return hash(self).\n",
      " |  \n",
      " |  __int__(self, /)\n",
      " |      int(self)\n",
      " |  \n",
      " |  __le__(self, value, /)\n",
      " |      Return self<=value.\n",
      " |  \n",
      " |  __lt__(self, value, /)\n",
      " |      Return self<value.\n",
      " |  \n",
      " |  __mod__(self, value, /)\n",
      " |      Return self%value.\n",
      " |  \n",
      " |  __mul__(self, value, /)\n",
      " |      Return self*value.\n",
      " |  \n",
      " |  __ne__(self, value, /)\n",
      " |      Return self!=value.\n",
      " |  \n",
      " |  __neg__(self, /)\n",
      " |      -self\n",
      " |  \n",
      " |  __new__(*args, **kwargs) from builtins.type\n",
      " |      Create and return a new object.  See help(type) for accurate signature.\n",
      " |  \n",
      " |  __pos__(self, /)\n",
      " |      +self\n",
      " |  \n",
      " |  __pow__(self, value, mod=None, /)\n",
      " |      Return pow(self, value, mod).\n",
      " |  \n",
      " |  __radd__(self, value, /)\n",
      " |      Return value+self.\n",
      " |  \n",
      " |  __rdivmod__(self, value, /)\n",
      " |      Return divmod(value, self).\n",
      " |  \n",
      " |  __repr__(self, /)\n",
      " |      Return repr(self).\n",
      " |  \n",
      " |  __rfloordiv__(self, value, /)\n",
      " |      Return value//self.\n",
      " |  \n",
      " |  __rmod__(self, value, /)\n",
      " |      Return value%self.\n",
      " |  \n",
      " |  __rmul__(self, value, /)\n",
      " |      Return value*self.\n",
      " |  \n",
      " |  __round__(...)\n",
      " |      Return the Integral closest to x, rounding half toward even.\n",
      " |      When an argument is passed, work like built-in round(x, ndigits).\n",
      " |  \n",
      " |  __rpow__(self, value, mod=None, /)\n",
      " |      Return pow(value, self, mod).\n",
      " |  \n",
      " |  __rsub__(self, value, /)\n",
      " |      Return value-self.\n",
      " |  \n",
      " |  __rtruediv__(self, value, /)\n",
      " |      Return value/self.\n",
      " |  \n",
      " |  __setformat__(...) from builtins.type\n",
      " |      float.__setformat__(typestr, fmt) -> None\n",
      " |      \n",
      " |      You probably don't want to use this function.  It exists mainly to be\n",
      " |      used in Python's test suite.\n",
      " |      \n",
      " |      typestr must be 'double' or 'float'.  fmt must be one of 'unknown',\n",
      " |      'IEEE, big-endian' or 'IEEE, little-endian', and in addition can only be\n",
      " |      one of the latter two if it appears to match the underlying C reality.\n",
      " |      \n",
      " |      Override the automatic determination of C-level floating point type.\n",
      " |      This affects how floats are converted to and from binary strings.\n",
      " |  \n",
      " |  __str__(self, /)\n",
      " |      Return str(self).\n",
      " |  \n",
      " |  __sub__(self, value, /)\n",
      " |      Return self-value.\n",
      " |  \n",
      " |  __truediv__(self, value, /)\n",
      " |      Return self/value.\n",
      " |  \n",
      " |  __trunc__(...)\n",
      " |      Return the Integral closest to x between 0 and x.\n",
      " |  \n",
      " |  as_integer_ratio(...)\n",
      " |      float.as_integer_ratio() -> (int, int)\n",
      " |      \n",
      " |      Return a pair of integers, whose ratio is exactly equal to the original\n",
      " |      float and with a positive denominator.\n",
      " |      Raise OverflowError on infinities and a ValueError on NaNs.\n",
      " |      \n",
      " |      >>> (10.0).as_integer_ratio()\n",
      " |      (10, 1)\n",
      " |      >>> (0.0).as_integer_ratio()\n",
      " |      (0, 1)\n",
      " |      >>> (-.25).as_integer_ratio()\n",
      " |      (-1, 4)\n",
      " |  \n",
      " |  conjugate(...)\n",
      " |      Return self, the complex conjugate of any float.\n",
      " |  \n",
      " |  fromhex(...) from builtins.type\n",
      " |      float.fromhex(string) -> float\n",
      " |      \n",
      " |      Create a floating-point number from a hexadecimal string.\n",
      " |      >>> float.fromhex('0x1.ffffp10')\n",
      " |      2047.984375\n",
      " |      >>> float.fromhex('-0x1p-1074')\n",
      " |      -5e-324\n",
      " |  \n",
      " |  hex(...)\n",
      " |      float.hex() -> string\n",
      " |      \n",
      " |      Return a hexadecimal representation of a floating-point number.\n",
      " |      >>> (-0.1).hex()\n",
      " |      '-0x1.999999999999ap-4'\n",
      " |      >>> 3.14159.hex()\n",
      " |      '0x1.921f9f01b866ep+1'\n",
      " |  \n",
      " |  is_integer(...)\n",
      " |      Return True if the float is an integer.\n",
      " |  \n",
      " |  ----------------------------------------------------------------------\n",
      " |  Data descriptors defined here:\n",
      " |  \n",
      " |  imag\n",
      " |      the imaginary part of a complex number\n",
      " |  \n",
      " |  real\n",
      " |      the real part of a complex number\n",
      "\n"
     ]
    }
   ],
   "source": [
    "# Convert Celsius to Fahrenheit\n",
    "help(functions.celsius_to_fahrenheit(13))"
   ]
  },
  {
   "cell_type": "code",
   "execution_count": 5,
   "metadata": {},
   "outputs": [
    {
     "data": {
      "text/plain": [
       "273.15"
      ]
     },
     "execution_count": 5,
     "metadata": {},
     "output_type": "execute_result"
    }
   ],
   "source": [
    "# Convert Celsius to Kelvin\n",
    "functions.celsius_to_kelvin(0)"
   ]
  },
  {
   "cell_type": "code",
   "execution_count": 6,
   "metadata": {},
   "outputs": [
    {
     "data": {
      "text/plain": [
       "28.000000000000004"
      ]
     },
     "execution_count": 6,
     "metadata": {},
     "output_type": "execute_result"
    }
   ],
   "source": [
    "# Convert Fahrenheit to Celsius\n",
    "functions.fahrenheit_to_celsius(82.4)"
   ]
  },
  {
   "cell_type": "code",
   "execution_count": 7,
   "metadata": {},
   "outputs": [
    {
     "data": {
      "text/plain": [
       "(21.038888888888884, 0, True)"
      ]
     },
     "execution_count": 7,
     "metadata": {},
     "output_type": "execute_result"
    }
   ],
   "source": [
    "# Calculate the Heat Index\n",
    "functions.heat_index(22, 30)"
   ]
  },
  {
   "cell_type": "code",
   "execution_count": 8,
   "metadata": {},
   "outputs": [
    {
     "name": "stderr",
     "output_type": "stream",
     "text": [
      "WARNING:root: Value input for RH is outside the range suitable for accurate Dewpoint estimation\n",
      "\n"
     ]
    },
    {
     "data": {
      "text/plain": [
       "20.161070572436692"
      ]
     },
     "execution_count": 8,
     "metadata": {},
     "output_type": "execute_result"
    }
   ],
   "source": [
    "# Get the Dewpoint Temperature\n",
    "functions.dewpoint_temperature(20, 101)"
   ]
  },
  {
   "cell_type": "code",
   "execution_count": 9,
   "metadata": {},
   "outputs": [
    {
     "data": {
      "text/plain": [
       "(20.917678437748936, 0, True)"
      ]
     },
     "execution_count": 9,
     "metadata": {},
     "output_type": "execute_result"
    }
   ],
   "source": [
    "# Calculate the Humidity Index\n",
    "functions.humidity_index(20, 9.2)"
   ]
  },
  {
   "cell_type": "code",
   "execution_count": 10,
   "metadata": {},
   "outputs": [
    {
     "data": {
      "text/plain": [
       "(18.4875, 6, True)"
      ]
     },
     "execution_count": 10,
     "metadata": {},
     "output_type": "execute_result"
    }
   ],
   "source": [
    "# Calculate the Discomfort Index\n",
    "functions.discomfort_index(20, 50)"
   ]
  },
  {
   "cell_type": "code",
   "execution_count": 11,
   "metadata": {},
   "outputs": [
    {
     "data": {
      "text/plain": [
       "(-3.0399222228067426, 1, False)"
      ]
     },
     "execution_count": 11,
     "metadata": {},
     "output_type": "execute_result"
    }
   ],
   "source": [
    "# Get the wind chill temperature\n",
    "functions.wind_chill_temperature(0, 2.5)"
   ]
  },
  {
   "cell_type": "code",
   "execution_count": 12,
   "metadata": {},
   "outputs": [
    {
     "data": {
      "text/plain": [
       "(12.83225332, 0, True)"
      ]
     },
     "execution_count": 12,
     "metadata": {},
     "output_type": "execute_result"
    }
   ],
   "source": [
    "# Get Wet-Bulb Glob Temperature\n",
    "functions.wet_bulb_globe_temperature_outdoors(15, 15, 10253, 1)"
   ]
  },
  {
   "cell_type": "code",
   "execution_count": 13,
   "metadata": {},
   "outputs": [
    {
     "data": {
      "text/plain": [
       "(13.328, 2, False)"
      ]
     },
     "execution_count": 13,
     "metadata": {},
     "output_type": "execute_result"
    }
   ],
   "source": [
    "# Get effective temperature\n",
    "functions.effective_temperature(14, 58, 0.1, 0, 0.5)"
   ]
  },
  {
   "cell_type": "code",
   "execution_count": 14,
   "metadata": {},
   "outputs": [
    {
     "data": {
      "text/plain": [
       "1.2128125949042536"
      ]
     },
     "execution_count": 14,
     "metadata": {},
     "output_type": "execute_result"
    }
   ],
   "source": [
    "# Estimate wind speed at another height\n",
    "functions.wind_speed_at_height(1, 10, 100, log=True)"
   ]
  },
  {
   "cell_type": "code",
   "execution_count": 16,
   "metadata": {},
   "outputs": [
    {
     "data": {
      "text/plain": [
       "8.16912187173369"
      ]
     },
     "execution_count": 16,
     "metadata": {},
     "output_type": "execute_result"
    }
   ],
   "source": [
    "# Estimate ground temperature\n",
    "functions.ground_temperature(\n",
    "    depth=0.5,\n",
    "    annual_average_temperature=13.2,\n",
    "    annual_temperature_range=14,\n",
    "    days_since_coldest_day=23,\n",
    "    soil_diffusivity=0.02\n",
    ")"
   ]
  },
  {
   "cell_type": "code",
   "execution_count": 19,
   "metadata": {},
   "outputs": [
    {
     "data": {
      "text/plain": [
       "['country',\n",
       " 'globalHorizontalIlluminance',\n",
       " 'relativeHumidity',\n",
       " 'dryBulbTemperature']"
      ]
     },
     "execution_count": 19,
     "metadata": {},
     "output_type": "execute_result"
    }
   ],
   "source": [
    "# Load weather from MongoDB\n",
    "home_ip = \"192.168.1.80\"\n",
    "work_ip = \"172.16.38.51\"\n",
    "weather = functions.load_mongo_weather(work_ip, 27017)\n",
    "\n",
    "list(weather.keys())[:4]\n"
   ]
  },
  {
   "cell_type": "code",
   "execution_count": 22,
   "metadata": {},
   "outputs": [
    {
     "data": {
      "text/plain": [
       "['country', 'region', 'ceilingHeight', 'horizontalInfraredRadiationIntensity']"
      ]
     },
     "execution_count": 22,
     "metadata": {},
     "output_type": "execute_result"
    }
   ],
   "source": [
    "# Load weather from local EPW file\n",
    "weather = functions.load_epw_weather(r\"C:\\Users\\tgerrish\\OneDrive - BuroHappold\\0000000 Non-project\\weather_files\\DOE_EPW_files\\ARE_Abu.Dhabi.412170_IWEC.epw\")\n",
    "list(weather.keys())[:4]"
   ]
  },
  {
   "cell_type": "code",
   "execution_count": 23,
   "metadata": {},
   "outputs": [
    {
     "data": {
      "text/plain": [
       "(-72.0382279548014, 21.53367049145413)"
      ]
     },
     "execution_count": 23,
     "metadata": {},
     "output_type": "execute_result"
    }
   ],
   "source": [
    "# Determine sun position from location and date/time\n",
    "functions.sun_position(\n",
    "    latitude=weather[\"latitude\"], \n",
    "    longitude=weather[\"longitude\"], \n",
    "    time_zone=weather[\"timeZone\"], \n",
    "    year=2000, month=3, day=1, hour=1, minute=0, second=0\n",
    ")"
   ]
  },
  {
   "cell_type": "code",
   "execution_count": 24,
   "metadata": {},
   "outputs": [
    {
     "data": {
      "text/plain": [
       "0.3218861041463852"
      ]
     },
     "execution_count": 24,
     "metadata": {},
     "output_type": "execute_result"
    }
   ],
   "source": [
    "# Approximating Fangers standing/sitting exposure level\n",
    "functions.fanger_solar_exposure(altitude=9, azimuth=90)"
   ]
  },
  {
   "cell_type": "code",
   "execution_count": 28,
   "metadata": {},
   "outputs": [
    {
     "data": {
      "text/plain": [
       "24.373267177941646"
      ]
     },
     "execution_count": 28,
     "metadata": {},
     "output_type": "execute_result"
    }
   ],
   "source": [
    "# Approximate solar adjusted mrt\n",
    "functions.solar_adjusted_mean_radiant_temperature(\n",
    "    dry_bulb_temperature=22,\n",
    "    diffuse_horizontal_radiation=50,\n",
    "    global_horizontal_radiation=75,\n",
    "    direct_normal_radiation=10,\n",
    "    solar_azimuth=90,\n",
    "    solar_altitude=45,\n",
    "    clothing_absorbtivity=0.7,\n",
    "    ground_reflectivity=0.4,\n",
    "    shading_transmissivity=0.45\n",
    ")"
   ]
  },
  {
   "cell_type": "code",
   "execution_count": 33,
   "metadata": {},
   "outputs": [
    {
     "name": "stdout",
     "output_type": "stream",
     "text": [
      "Altitude: -33.78 --- Azimuth: 301.32\n",
      "Altitude: -41.40 --- Azimuth: 317.49\n",
      "Altitude: -46.75 --- Azimuth: 336.86\n",
      "Altitude: -48.82 --- Azimuth: 358.85\n",
      "Altitude: -47.09 --- Azimuth:  20.98\n",
      "Altitude: -42.01 --- Azimuth:  40.66\n",
      "Altitude: -34.55 --- Azimuth:  57.10\n",
      "Altitude: -25.68 --- Azimuth:  70.93\n",
      "Altitude: -16.06 --- Azimuth:  83.09\n",
      "Altitude:  -6.20 --- Azimuth:  94.44\n",
      "Altitude:   3.72 --- Azimuth: 105.72\n",
      "Altitude:  12.76 --- Azimuth: 117.55\n",
      "Altitude:  20.92 --- Azimuth: 130.54\n",
      "Altitude:  27.55 --- Azimuth: 145.15\n",
      "Altitude:  32.00 --- Azimuth: 161.51\n",
      "Altitude:  33.68 --- Azimuth: 179.12\n",
      "Altitude:  32.32 --- Azimuth: 196.80\n",
      "Altitude:  28.15 --- Azimuth: 213.34\n",
      "Altitude:  21.73 --- Azimuth: 228.15\n",
      "Altitude:  13.72 --- Azimuth: 241.30\n",
      "Altitude:   4.74 --- Azimuth: 253.25\n",
      "Altitude:  -5.09 --- Azimuth: 264.58\n",
      "Altitude: -14.93 --- Azimuth: 275.92\n"
     ]
    }
   ],
   "source": [
    "# Fix the solar az, alt values prior to fangerising\n",
    "from datetime import datetime\n",
    "tz = 3\n",
    "lat = 48.8566\n",
    "lon = 2.3522\n",
    "d = datetime(1989, 3, 1, 0, 0, 0)\n",
    "\n",
    "for r in range(0, 23, 1):\n",
    "    alt, az = functions.sun_position(\n",
    "            latitude=lat, longitude=lon, time_zone=tz, \n",
    "            year=d.year, month=d.month, day=d.day, hour=r, minute=d.minute, second=d.second\n",
    "    )\n",
    "\n",
    "    print(\"Altitude: {0:6.2f} - Azimuth: {1:6.2f}\".format(alt, az))"
   ]
  },
  {
   "cell_type": "code",
   "execution_count": 11,
   "metadata": {},
   "outputs": [
    {
     "name": "stdout",
     "output_type": "stream",
     "text": [
      "1989-01-01 00:00:00\n",
      "1989-01-08 00:00:00\n",
      "1989-01-15 00:00:00\n",
      "1989-01-22 00:00:00\n",
      "1989-01-29 00:00:00\n",
      "1989-02-05 00:00:00\n",
      "1989-02-12 00:00:00\n",
      "1989-02-19 00:00:00\n",
      "1989-02-26 00:00:00\n",
      "1989-03-05 00:00:00\n",
      "1989-03-12 00:00:00\n",
      "1989-03-19 00:00:00\n",
      "1989-03-26 00:00:00\n",
      "1989-04-02 00:00:00\n",
      "1989-04-09 00:00:00\n",
      "1989-04-16 00:00:00\n",
      "1989-04-23 00:00:00\n",
      "1989-04-30 00:00:00\n",
      "1989-05-07 00:00:00\n",
      "1989-05-14 00:00:00\n",
      "1989-05-21 00:00:00\n",
      "1989-05-28 00:00:00\n",
      "1989-06-04 00:00:00\n",
      "1989-06-11 00:00:00\n",
      "1989-06-18 00:00:00\n",
      "1989-06-25 00:00:00\n",
      "1989-07-02 00:00:00\n",
      "1989-07-09 00:00:00\n",
      "1989-07-16 00:00:00\n",
      "1989-07-23 00:00:00\n",
      "1989-07-30 00:00:00\n",
      "1989-08-06 00:00:00\n",
      "1989-08-13 00:00:00\n",
      "1989-08-20 00:00:00\n",
      "1989-08-27 00:00:00\n",
      "1989-09-03 00:00:00\n",
      "1989-09-10 00:00:00\n",
      "1989-09-17 00:00:00\n",
      "1989-09-24 00:00:00\n",
      "1989-10-01 00:00:00\n",
      "1989-10-08 00:00:00\n",
      "1989-10-15 00:00:00\n",
      "1989-10-22 00:00:00\n",
      "1989-10-29 00:00:00\n",
      "1989-11-05 00:00:00\n",
      "1989-11-12 00:00:00\n",
      "1989-11-19 00:00:00\n",
      "1989-11-26 00:00:00\n",
      "1989-12-03 00:00:00\n",
      "1989-12-10 00:00:00\n",
      "1989-12-17 00:00:00\n",
      "1989-12-24 00:00:00\n",
      "1989-12-31 00:00:00\n"
     ]
    }
   ],
   "source": [
    "\n",
    "import pandas as pd\n",
    "\n",
    "dts = pd.DatetimeIndex(start=\"1989-01-01 00:00\", end=\"1990-01-01 00:00\", freq=\"60T\", closed=\"left\")\n",
    "tz = 3\n",
    "lat = 48.8566\n",
    "lon = 2.3522\n",
    "\n",
    "for n, d in enumerate(dts):\n",
    "    if n % (24 * 7) == 0:\n",
    "        print(d)\n",
    "    alt, az = functions.sun_position(\n",
    "        latitude=lat, longitude=lon, time_zone=tz, \n",
    "        year=d.year, month=d.month, day=d.day, hour=d.hour, minute=d.minute, second=d.second\n",
    ")"
   ]
  },
  {
   "cell_type": "code",
   "execution_count": 21,
   "metadata": {},
   "outputs": [
    {
     "name": "stdout",
     "output_type": "stream",
     "text": [
      ": elf\n",
      "Unknown verb elf\n"
     ]
    }
   ],
   "source": [
    "def get_input():\n",
    "    command = input(\": \").split()\n",
    "    verb_word = command[0]\n",
    "    if verb_word in verb_dict:\n",
    "        verb = verb_dict[verb_word]\n",
    "    else:\n",
    "        print(\"Unknown verb {}\". format(verb_word))\n",
    "        return\n",
    "\n",
    "    if len(command) >= 2:\n",
    "        noun_word = command[1]\n",
    "        print (verb(noun_word))\n",
    "    else:\n",
    "        print(verb(\"nothing\"))\n",
    "\n",
    "def say(noun):\n",
    "    return 'You said \"{}\"'.format(noun)\n",
    "\n",
    "class GameObject:\n",
    "    class_name = \"\"\n",
    "    desc = \"\"\n",
    "    objects = {}\n",
    "\n",
    "    def __init__(self, name):\n",
    "        self.name = name\n",
    "        GameObject.objects[self.class_name] = self\n",
    "\n",
    "    def get_desc(self):\n",
    "        return self.class_name + \"\\n\" + self.desc\n",
    "\n",
    "class Goblin(GameObject):\n",
    "    class_name = \"goblin\"\n",
    "    desc = \"A foul creature\"\n",
    "\n",
    "goblin = Goblin(\"Gobbly\")\n",
    "\n",
    "def examine(noun):\n",
    "    if noun in GameObject.objects:\n",
    "        return GameObject.objects[noun].get_desc()\n",
    "    else:\n",
    "        return \"There is no {} here.\".format(noun)\n",
    "    \n",
    "verb_dict = {\n",
    "    \"say\": say,\n",
    "    \"examine\": examine,\n",
    "}\n",
    "\n",
    "get_input()"
   ]
  }
 ],
 "metadata": {
  "kernelspec": {
   "display_name": "Python 3",
   "language": "python",
   "name": "python3"
  },
  "language_info": {
   "codemirror_mode": {
    "name": "ipython",
    "version": 3
   },
   "file_extension": ".py",
   "mimetype": "text/x-python",
   "name": "python",
   "nbconvert_exporter": "python",
   "pygments_lexer": "ipython3",
   "version": "3.5.5"
  }
 },
 "nbformat": 4,
 "nbformat_minor": 2
}
