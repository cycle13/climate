{
 "cells": [
  {
   "cell_type": "code",
   "execution_count": null,
   "metadata": {},
   "outputs": [
    {
     "data": {
      "text/html": [
       "<script>Jupyter.notebook.kernel.restart()</script>"
      ],
      "text/plain": [
       "<IPython.core.display.HTML object>"
      ]
     },
     "execution_count": 1,
     "metadata": {},
     "output_type": "execute_result"
    }
   ],
   "source": [
    "from IPython.core.display import HTML\n",
    "HTML(\"<script>Jupyter.notebook.kernel.restart()</script>\")"
   ]
  },
  {
   "cell_type": "code",
   "execution_count": 1,
   "metadata": {},
   "outputs": [],
   "source": [
    "import functions\n",
    "# human = functions.Human()"
   ]
  },
  {
   "cell_type": "code",
   "execution_count": 2,
   "metadata": {},
   "outputs": [
    {
     "name": "stdout",
     "output_type": "stream",
     "text": [
      "Help on function chunks in module functions:\n",
      "\n",
      "chunks(l, n)\n",
      "    Yield successive n-sized chunks from l\n",
      "    \n",
      "    Parameters\n",
      "    ----------\n",
      "    l : list\n",
      "        List of objects\n",
      "    n : int\n",
      "        Number of elements in each returned sub-list\n",
      "    \n",
      "    Returns\n",
      "    -------\n",
      "    generator\n",
      "        A generator object of l split into n-sized chunks\n",
      "    \n",
      "    Examples\n",
      "    --------\n",
      "    >>> a = [3, 4, 5, 6, 7, 8, 9, 1, 2, 3, 4, 5, 6, 7, 8]\n",
      "    >>> b = chunks(a, 3)\n",
      "    >>> b\n",
      "    <generator object chunks at 0x000001B078A8DE60>\n",
      "    >>> list(b)\n",
      "    [[3, 4, 5], [6, 7, 8], [9, 1, 2], [3, 4, 5], [6, 7, 8]]\n",
      "    >>> c = chunks(a, 6)\n",
      "    >>> list(c)\n",
      "    [[3, 4, 5, 6, 7, 8], [9, 1, 2, 3, 4, 5], [6, 7, 8]]\n",
      "\n"
     ]
    }
   ],
   "source": [
    "help(functions.chunks)"
   ]
  },
  {
   "cell_type": "code",
   "execution_count": 12,
   "metadata": {},
   "outputs": [
    {
     "data": {
      "text/plain": [
       "(24.43, 54.65)"
      ]
     },
     "execution_count": 12,
     "metadata": {},
     "output_type": "execute_result"
    }
   ],
   "source": [
    "# Load weather from MongoDB\n",
    "home_ip = \"192.168.1.80\"\n",
    "work_ip = \"172.16.38.51\"\n",
    "weather = functions.load_mongo_weather(work_ip, 27017)\n",
    "\n",
    "# Load weather from local EPW file\n",
    "# path = r\"C:\\Users\\tgerrish\\OneDrive - BuroHappold\\0000000 Non-project\\weather_files\\DOE_EPW_files\\ARE_Abu.Dhabi.412170_IWEC.epw\"\n",
    "# weather = functions.load_epw_weather(path)\n",
    "\n",
    "list(weather.keys())[:4]\n",
    "\n",
    "weather[\"latitude\"], weather[\"longitude\"]"
   ]
  },
  {
   "cell_type": "code",
   "execution_count": 9,
   "metadata": {},
   "outputs": [
    {
     "data": {
      "text/plain": [
       "[[3, 4, 5, 6, 7, 8], [9, 1, 2, 3, 4, 5], [6, 7, 8]]"
      ]
     },
     "execution_count": 9,
     "metadata": {},
     "output_type": "execute_result"
    }
   ],
   "source": [
    "def chunks(l, n):\n",
    "    \"\"\" Yield successive n-sized chunks from l\n",
    "\n",
    "    Parameters\n",
    "    ----------\n",
    "    l : list\n",
    "        List of objects\n",
    "    n : int\n",
    "        Number of elements in each returned sub-list\n",
    "\n",
    "    Returns\n",
    "    -------\n",
    "    generator\n",
    "        A generator object of l split into n-sized chunks\n",
    "\n",
    "    \"\"\"\n",
    "\n",
    "    for i in range(0, len(l), n):\n",
    "        yield l[i:i + n]\n",
    "\n",
    "list(chunks([3, 4, 5, 6, 7, 8, 9, 1, 2, 3, 4, 5, 6, 7, 8], 6))"
   ]
  },
  {
   "cell_type": "code",
   "execution_count": 10,
   "metadata": {},
   "outputs": [
    {
     "ename": "NameError",
     "evalue": "name 'weather' is not defined",
     "output_type": "error",
     "traceback": [
      "\u001b[1;31m---------------------------------------------------------------------------\u001b[0m",
      "\u001b[1;31mNameError\u001b[0m                                 Traceback (most recent call last)",
      "\u001b[1;32m<ipython-input-10-580cf3bfbc8a>\u001b[0m in \u001b[0;36m<module>\u001b[1;34m\u001b[0m\n\u001b[1;32m----> 1\u001b[1;33m \u001b[0mweather\u001b[0m\u001b[1;33m\u001b[0m\u001b[0m\n\u001b[0m",
      "\u001b[1;31mNameError\u001b[0m: name 'weather' is not defined"
     ]
    }
   ],
   "source": [
    "weather"
   ]
  },
  {
   "cell_type": "code",
   "execution_count": 3,
   "metadata": {},
   "outputs": [
    {
     "name": "stdout",
     "output_type": "stream",
     "text": [
      "37.296422345342016 207.76861267512547\n"
     ]
    },
    {
     "data": {
      "text/plain": [
       "(15.6, 0.0, 15.6, 14.212637417297172, 14.522806183485025)"
      ]
     },
     "execution_count": 3,
     "metadata": {},
     "output_type": "execute_result"
    }
   ],
   "source": [
    "# For a time of the year, for the selected weatherfile - get the solar adjusted MRT value\n",
    "\n",
    "from datetime import datetime, timedelta\n",
    "\n",
    "path = r\"C:\\Users\\tgerrish\\OneDrive - BuroHappold\\0000000 Non-project\\weather_files\\DOE_EPW_files\\ARE_Abu.Dhabi.412170_IWEC.epw\"\n",
    "\n",
    "weather = functions.load_epw_weather(path)\n",
    "tz = weather[\"timeZone\"]\n",
    "lat = weather[\"latitude\"]\n",
    "lon = weather[\"longitude\"]\n",
    "hour_in_year = 1\n",
    "d = datetime(1989, 1, 1, 13, 0, 0) + timedelta(hours=hour_in_year)\n",
    "\n",
    "solar_altitude = functions.solar_altitude(latitude=lat, longitude=lon, year=d.year, month=d.month, day=d.day, hour=d.hour, minute=d.minute, second=d.second, time_zone=tz)\n",
    "solar_azimuth = functions.solar_azimuth(latitude=lat, longitude=lon, year=d.year, month=d.month, day=d.day, hour=d.hour, minute=d.minute, second=d.second, time_zone=tz)\n",
    "\n",
    "dbt = weather[\"dryBulbTemperature\"][\"values\"][hour_in_year]\n",
    "ghr = weather[\"globalHorizontalRadiation\"][\"values\"][hour_in_year]\n",
    "wnd = weather[\"windSpeed\"][\"values\"][hour_in_year]\n",
    "rh = weather[\"relativeHumidity\"][\"values\"][hour_in_year]\n",
    "\n",
    "solar_mrt = functions.solar_adjusted_mean_radiant_temperature(\n",
    "                dry_bulb_temperature=dbt,\n",
    "                diffuse_horizontal_radiation=weather[\"diffuseHorizontalRadiation\"][\"values\"][hour_in_year],\n",
    "                global_horizontal_radiation=ghr,\n",
    "                direct_normal_radiation=weather[\"directNormalRadiation\"][\"values\"][hour_in_year],\n",
    "                solar_azimuth=solar_azimuth,\n",
    "                solar_altitude=solar_altitude,\n",
    "                clothing_absorbtivity=0.7,\n",
    "                ground_reflectivity=0.4,\n",
    "                shading_transmissivity=1\n",
    "            )\n",
    "\n",
    "utci = functions.universal_thermal_climate_index(air_temperature=dbt, mean_radiant_temperature=solar_mrt, air_velocity=wnd, relative_humidity=rh)\n",
    "_set = functions.standard_effective_temperature(air_temperature=dbt, mean_radiant_temperature=solar_mrt, air_velocity=wnd, relative_humidity=rh, metabolic_rate=1, clo_value=1)\n",
    "print(solar_altitude, solar_azimuth)\n",
    "dbt, ghr, solar_mrt, utci, _set"
   ]
  },
  {
   "cell_type": "code",
   "execution_count": 7,
   "metadata": {},
   "outputs": [
    {
     "data": {
      "text/plain": [
       "0.3218861041463852"
      ]
     },
     "execution_count": 7,
     "metadata": {},
     "output_type": "execute_result"
    }
   ],
   "source": [
    "# Approximating Fangers standing/sitting exposure level\n",
    "functions.fanger_solar_exposure(altitude=9, azimuth=90)"
   ]
  },
  {
   "cell_type": "code",
   "execution_count": 12,
   "metadata": {},
   "outputs": [
    {
     "data": {
      "text/plain": [
       "24.373267177941646"
      ]
     },
     "execution_count": 12,
     "metadata": {},
     "output_type": "execute_result"
    }
   ],
   "source": [
    "# Approximate solar adjusted mrt\n",
    "functions.solar_adjusted_mean_radiant_temperature(\n",
    "    dry_bulb_temperature=22,\n",
    "    diffuse_horizontal_radiation=50,\n",
    "    global_horizontal_radiation=75,\n",
    "    direct_normal_radiation=10,\n",
    "    solar_azimuth=90,\n",
    "    solar_altitude=45,\n",
    "    clothing_absorbtivity=0.7,\n",
    "    ground_reflectivity=0.4,\n",
    "    shading_transmissivity=0.45\n",
    ")"
   ]
  },
  {
   "cell_type": "code",
   "execution_count": 26,
   "metadata": {},
   "outputs": [
    {
     "name": "stdout",
     "output_type": "stream",
     "text": [
      "1989-01-01 00:00:00\n",
      "1989-01-08 00:00:00\n",
      "1989-01-15 00:00:00\n",
      "1989-01-22 00:00:00\n",
      "1989-01-29 00:00:00\n",
      "1989-02-05 00:00:00\n",
      "1989-02-12 00:00:00\n",
      "1989-02-19 00:00:00\n",
      "1989-02-26 00:00:00\n",
      "1989-03-05 00:00:00\n",
      "1989-03-12 00:00:00\n",
      "1989-03-19 00:00:00\n",
      "1989-03-26 00:00:00\n",
      "1989-04-02 00:00:00\n",
      "1989-04-09 00:00:00\n",
      "1989-04-16 00:00:00\n",
      "1989-04-23 00:00:00\n",
      "1989-04-30 00:00:00\n",
      "1989-05-07 00:00:00\n",
      "1989-05-14 00:00:00\n",
      "1989-05-21 00:00:00\n",
      "1989-05-28 00:00:00\n",
      "1989-06-04 00:00:00\n",
      "1989-06-11 00:00:00\n",
      "1989-06-18 00:00:00\n",
      "1989-06-25 00:00:00\n",
      "1989-07-02 00:00:00\n",
      "1989-07-09 00:00:00\n",
      "1989-07-16 00:00:00\n",
      "1989-07-23 00:00:00\n",
      "1989-07-30 00:00:00\n",
      "1989-08-06 00:00:00\n",
      "1989-08-13 00:00:00\n",
      "1989-08-20 00:00:00\n",
      "1989-08-27 00:00:00\n",
      "1989-09-03 00:00:00\n",
      "1989-09-10 00:00:00\n",
      "1989-09-17 00:00:00\n",
      "1989-09-24 00:00:00\n",
      "1989-10-01 00:00:00\n",
      "1989-10-08 00:00:00\n",
      "1989-10-15 00:00:00\n",
      "1989-10-22 00:00:00\n",
      "1989-10-29 00:00:00\n",
      "1989-11-05 00:00:00\n",
      "1989-11-12 00:00:00\n",
      "1989-11-19 00:00:00\n",
      "1989-11-26 00:00:00\n",
      "1989-12-03 00:00:00\n",
      "1989-12-10 00:00:00\n",
      "1989-12-17 00:00:00\n",
      "1989-12-24 00:00:00\n",
      "1989-12-31 00:00:00\n"
     ]
    }
   ],
   "source": [
    "# Fix the solar az, alt values prior to fangerising\n",
    "from datetime import datetime\n",
    "import pandas as pd\n",
    "\n",
    "path = r\"C:\\Users\\tgerrish\\OneDrive - BuroHappold\\0000000 Non-project\\weather_files\\DOE_EPW_files\\KEN_Kisumu.637080_SWERA.epw\"\n",
    "weather = functions.load_epw_weather(path)\n",
    "\n",
    "dts = pd.DatetimeIndex(start=\"1989-01-01 00:00\", end=\"1990-01-01 00:00\", freq=\"60T\", closed=\"left\")\n",
    "\n",
    "tz = weather[\"timeZone\"]\n",
    "lat = weather[\"latitude\"]\n",
    "lon = weather[\"longitude\"]\n",
    "d = datetime(1989, 1, 1, 0, 0, 0)\n",
    "\n",
    "def convert_altitude_azimuth(altitude, azimuth):\n",
    "    if altitude < 0:\n",
    "        altitude_adjusted = 0\n",
    "    elif altitude > 90:\n",
    "        altitude_adjusted = 90 - altitude\n",
    "    else:\n",
    "        altitude_adjusted = altitude\n",
    "\n",
    "    if azimuth < 180:\n",
    "        azimuth_adjusted = azimuth\n",
    "    elif azimuth > 180:\n",
    "        azimuth_adjusted = 360 - azimuth\n",
    "\n",
    "    return altitude_adjusted, azimuth_adjusted\n",
    "\n",
    "mrts = []\n",
    "for r, d in enumerate(dts):\n",
    "    if r % (24 * 7) == 0:\n",
    "        print(d)\n",
    "    alt, az = functions.sun_position(\n",
    "            latitude=lat, longitude=lon, time_zone=tz, \n",
    "            year=d.year, month=d.month, day=d.day, hour=d.hour, minute=d.minute, second=d.second\n",
    "    )\n",
    "    alt, az = convert_altitude_azimuth(alt, az)\n",
    "    \n",
    "    exp = functions.fanger_solar_exposure(altitude=alt, azimuth=az)\n",
    "    \n",
    "    solAdjMRT = functions.solar_adjusted_mean_radiant_temperature(\n",
    "                    dry_bulb_temperature=weather[\"dryBulbTemperature\"][\"values\"][r],\n",
    "                    diffuse_horizontal_radiation=weather[\"diffuseHorizontalRadiation\"][\"values\"][r],\n",
    "                    global_horizontal_radiation=weather[\"globalHorizontalRadiation\"][\"values\"][r],\n",
    "                    direct_normal_radiation=weather[\"directNormalRadiation\"][\"values\"][r],\n",
    "                    solar_azimuth=az,\n",
    "                    solar_altitude=alt,\n",
    "                    clothing_absorbtivity=0.7,\n",
    "                    ground_reflectivity=0.4,\n",
    "                    shading_transmissivity=1\n",
    "                )\n",
    "    mrts.append(solAdjMRT)\n",
    "    \n",
    "\n",
    "    #print(\"Hour: {2:02}:00 | Altitude: {0:6.2f}, Azimuth: {1:6.2f} | Exposure: {3:.3f} | Solar adjusted MRT: {4:.2f}\".format(alt, az, r, exp, solAdjMRT))"
   ]
  }
 ],
 "metadata": {
  "kernelspec": {
   "display_name": "Python 3",
   "language": "python",
   "name": "python3"
  },
  "language_info": {
   "codemirror_mode": {
    "name": "ipython",
    "version": 3
   },
   "file_extension": ".py",
   "mimetype": "text/x-python",
   "name": "python",
   "nbconvert_exporter": "python",
   "pygments_lexer": "ipython3",
   "version": "3.7.0"
  }
 },
 "nbformat": 4,
 "nbformat_minor": 2
}
