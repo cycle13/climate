{
 "cells": [
  {
   "cell_type": "code",
   "execution_count": 1,
   "metadata": {},
   "outputs": [],
   "source": [
    "%load_ext autoreload\n",
    "%autoreload 2\n",
    "\n",
    "%matplotlib inline\n",
    "import matplotlib.pyplot as plt\n",
    "from mpl_toolkits.mplot3d import Axes3D\n",
    "import pandas as pd\n",
    "import numpy as np\n",
    "\n",
    "import climate"
   ]
  },
  {
   "cell_type": "code",
   "execution_count": 2,
   "metadata": {},
   "outputs": [],
   "source": [
    "w = climate.weather.Weather(\"./test/weatherfile_AlBateen.epw\")"
   ]
  },
  {
   "cell_type": "code",
   "execution_count": 18,
   "metadata": {},
   "outputs": [
    {
     "name": "stdout",
     "output_type": "stream",
     "text": [
      "Sky matrix loaded: C:\\Users\\tgerrish\\Documents\\GitHub\\climate\\test\\weatherfile_AlBateen.mtx_direct\n",
      "Sky matrix loaded: C:\\Users\\tgerrish\\Documents\\GitHub\\climate\\test\\weatherfile_AlBateen.mtx_diffuse\n",
      "Sky matrix loaded: C:\\Users\\tgerrish\\Documents\\GitHub\\climate\\test\\weatherfile_AlBateen.mtx_total\n"
     ]
    }
   ],
   "source": [
    "smx = climate.sky.SkyMatrix(\"./test/weatherfile_AlBateen.epw\", sky_density=\"Tregenza\")"
   ]
  },
  {
   "cell_type": "code",
   "execution_count": 20,
   "metadata": {},
   "outputs": [
    {
     "data": {
      "text/plain": [
       "2226557.4449516665"
      ]
     },
     "execution_count": 20,
     "metadata": {},
     "output_type": "execute_result"
    }
   ],
   "source": [
    "smx.total_radiation.sum()"
   ]
  },
  {
   "cell_type": "code",
   "execution_count": 15,
   "metadata": {},
   "outputs": [
    {
     "data": {
      "text/plain": [
       "WindowsPath('C:/Users/tgerrish/Documents/GitHub/climate/test/weatherfile_AlBateen.mtx_diffuse')"
      ]
     },
     "execution_count": 15,
     "metadata": {},
     "output_type": "execute_result"
    }
   ],
   "source": [
    "smx.mtx_diffuse_path"
   ]
  },
  {
   "cell_type": "code",
   "execution_count": null,
   "metadata": {},
   "outputs": [],
   "source": [
    "from honeybee.radiance.command.gendaymtx import GendaymtxParameters, Gendaymtx\n",
    "Gendaymtx(output_name=pathlib.Path(self.wea_path).with_suffix('.mtx_direct').as_posix(), wea_file=self.wea_path, gendaymtx_parameters=GendaymtxParameters(sky_density=density, only_direct=True, verbose_report=False)).execute()"
   ]
  },
  {
   "cell_type": "code",
   "execution_count": 43,
   "metadata": {
    "scrolled": false
   },
   "outputs": [
    {
     "data": {
      "text/plain": [
       "-r 0.0 -m 1 -v"
      ]
     },
     "execution_count": 43,
     "metadata": {},
     "output_type": "execute_result"
    }
   ],
   "source": [
    "from ladybug.wea import Wea\n",
    "from honeybee.radiance.command.gendaymtx import GendaymtxParameters, Gendaymtx\n",
    "\n",
    "wea = Wea.from_epw_file(\"./test/weatherfile_AlBateen.epw\")\n",
    "wea_path = wea.write(\"./test/weatherfile_AlBateen.wea\")\n",
    "\n",
    "GendaymtxParameters()"
   ]
  },
  {
   "cell_type": "code",
   "execution_count": 37,
   "metadata": {},
   "outputs": [
    {
     "ename": "AttributeError",
     "evalue": "module 'climate.sky' has no attribute 'Skymatrix'",
     "output_type": "error",
     "traceback": [
      "\u001b[1;31m---------------------------------------------------------------------------\u001b[0m",
      "\u001b[1;31mAttributeError\u001b[0m                            Traceback (most recent call last)",
      "\u001b[1;32m<ipython-input-37-939c5162cbdd>\u001b[0m in \u001b[0;36m<module>\u001b[1;34m\u001b[0m\n\u001b[0;32m      1\u001b[0m \u001b[1;31m# Generate a sky-matrix\u001b[0m\u001b[1;33m\u001b[0m\u001b[1;33m\u001b[0m\u001b[0m\n\u001b[1;32m----> 2\u001b[1;33m \u001b[0msmx\u001b[0m \u001b[1;33m=\u001b[0m \u001b[0mclimate\u001b[0m\u001b[1;33m.\u001b[0m\u001b[0msky\u001b[0m\u001b[1;33m.\u001b[0m\u001b[0mSkymatrix\u001b[0m\u001b[1;33m(\u001b[0m\u001b[1;34m\"./test/weatherfile_AlBateen.epw\"\u001b[0m\u001b[1;33m)\u001b[0m\u001b[1;33m\u001b[0m\u001b[0m\n\u001b[0m",
      "\u001b[1;31mAttributeError\u001b[0m: module 'climate.sky' has no attribute 'Skymatrix'"
     ]
    }
   ],
   "source": [
    "# Generate a sky-matrix\n",
    "smx = climate.sky.SkyMatrix(\"./test/weatherfile_AlBateen.epw\")"
   ]
  },
  {
   "cell_type": "code",
   "execution_count": 3,
   "metadata": {},
   "outputs": [],
   "source": [
    "%matplotlib inline\n",
    "import matplotlib.pyplot as plt\n",
    "from mpl_toolkits.mplot3d import Axes3D\n",
    "import pandas as pd\n",
    "import numpy as np"
   ]
  },
  {
   "cell_type": "code",
   "execution_count": 2,
   "metadata": {},
   "outputs": [],
   "source": [
    "import ladybug, ladybug_geometry, ladybug_comfort\n",
    "import honeybee, honeybee_radiance#, honeybee_energy\n",
    "\n",
    "from ladybug_comfort.collection.utci import UTCI"
   ]
  },
  {
   "cell_type": "code",
   "execution_count": 4,
   "metadata": {},
   "outputs": [],
   "source": [
    "# pip install lbt-ladybug --upgrade\n",
    "# pip install ladybug-comfort --upgrade\n",
    "# pip install ladybug-geometry --upgrade\n",
    "# pip install lbt-dragonfly --upgrade\n",
    "# pip install uwg --upgrade\n",
    "# pip install lbt-honeybee --upgrade\n",
    "# pip install honeybee-core --upgrade\n",
    "# pip install honeybee-schema --upgrade\n",
    "# pip install honeybee-radiance --upgrade\n",
    "# pip install honeybee-energy --upgrade\n",
    "# pip install honeybee-energy-standards --upgrade"
   ]
  },
  {
   "cell_type": "code",
   "execution_count": 46,
   "metadata": {},
   "outputs": [
    {
     "data": {
      "text/plain": [
       "<matplotlib.axes._subplots.AxesSubplot at 0x2a8961e29b0>"
      ]
     },
     "execution_count": 46,
     "metadata": {},
     "output_type": "execute_result"
    },
    {
     "data": {
      "image/png": "[encoded data removed]",
      "text/plain": [
       "<Figure size 432x288 with 1 Axes>"
      ]
     },
     "metadata": {
      "needs_background": "light"
     },
     "output_type": "display_data"
    }
   ],
   "source": [
    "idx_year = pd.date_range(start=\"2018-01-01 00:00:00\", end=\"2019-01-01 00:00:00\", freq=\"60T\", closed=\"left\").tz_localize(\"UTC\").tz_convert(int(epw.location.time_zone * 60 * 60)) - pd.Timedelta(hours=epw.location.time_zone)\n",
    "idx_month = pd.date_range(start=\"2018-01-01 00:00:00\", end=\"2019-01-01 00:00:00\", freq=\"1M\", closed=\"left\").tz_localize(\"UTC\").tz_convert(int(epw.location.time_zone * 60 * 60)) - pd.Timedelta(hours=epw.location.time_zone)\n",
    "\n",
    "ground_temperatures_df = pd.DataFrame()\n",
    "for depth in [0.5, 2, 4]:\n",
    "    gt = pd.Series(index=idx_month, data=epw.monthly_ground_temperature[depth].values, name=\"ground_temperature_{0:}mm\".format(depth * 1000)).resample(\"MS\").mean().reindex(idx_year)\n",
    "    gt.iloc[-1] = gt.iloc[0]\n",
    "    gt.interpolate(inplace=True)\n",
    "\n",
    "gt.plot()"
   ]
  },
  {
   "cell_type": "code",
   "execution_count": 22,
   "metadata": {
    "scrolled": false
   },
   "outputs": [
    {
     "data": {
      "text/plain": [
       "Monthly Collection\n",
       "Jan to Dec\n",
       "Ground Temperature (C)\n",
       "...12 values..."
      ]
     },
     "execution_count": 22,
     "metadata": {},
     "output_type": "execute_result"
    }
   ],
   "source": [
    "epw = ladybug.epw.EPW(\"./test/weatherfile_AlBateen.epw\")\n",
    "# from ladybug_comfort.utci import universal_thermal_climate_index\n",
    "\n",
    "\n",
    "# pd.Series(UTCI.from_epw(epw, include_wind=True, include_sun=True).universal_thermal_climate_index.values).plot()\n",
    "# pd.Series(UTCI.from_epw(epw, include_wind=True, include_sun=False).universal_thermal_climate_index.values).plot()\n",
    "\n",
    "# help(epw)#monthly_ground_temperature[0.5].values\n",
    "epw.monthly_ground_temperature[2]"
   ]
  },
  {
   "cell_type": "code",
   "execution_count": 37,
   "metadata": {},
   "outputs": [
    {
     "ename": "AttributeError",
     "evalue": "module 'honeybee.config' has no attribute 'radbin_path'",
     "output_type": "error",
     "traceback": [
      "\u001b[0;31m---------------------------------------------------------------------------\u001b[0m",
      "\u001b[0;31mAttributeError\u001b[0m                            Traceback (most recent call last)",
      "\u001b[0;32m<ipython-input-37-d049303488ad>\u001b[0m in \u001b[0;36m<module>\u001b[0;34m\u001b[0m\n\u001b[1;32m      1\u001b[0m \u001b[0;31m# Generate sky matrices\u001b[0m\u001b[0;34m\u001b[0m\u001b[0;34m\u001b[0m\u001b[0;34m\u001b[0m\u001b[0m\n\u001b[1;32m      2\u001b[0m \u001b[0;31m# from honeybee.radiance.sky.skymatrix import skymatrix\u001b[0m\u001b[0;34m\u001b[0m\u001b[0;34m\u001b[0m\u001b[0;34m\u001b[0m\u001b[0m\n\u001b[0;32m----> 3\u001b[0;31m \u001b[0mhoneybee\u001b[0m\u001b[0;34m.\u001b[0m\u001b[0mradiance\u001b[0m\u001b[0;34m.\u001b[0m\u001b[0msky\u001b[0m\u001b[0;34m.\u001b[0m\u001b[0mskymatrix\u001b[0m\u001b[0;34m.\u001b[0m\u001b[0mSkyMatrix\u001b[0m\u001b[0;34m.\u001b[0m\u001b[0mfrom_epw_file\u001b[0m\u001b[0;34m(\u001b[0m\u001b[0;34m\"./test/weatherfile_AlBateen.epw\"\u001b[0m\u001b[0;34m)\u001b[0m\u001b[0;34m.\u001b[0m\u001b[0mexecute\u001b[0m\u001b[0;34m(\u001b[0m\u001b[0;34m\"./test/\"\u001b[0m\u001b[0;34m)\u001b[0m\u001b[0;34m\u001b[0m\u001b[0;34m\u001b[0m\u001b[0m\n\u001b[0m\u001b[1;32m      4\u001b[0m \u001b[0;34m\u001b[0m\u001b[0m\n",
      "\u001b[0;32m/anaconda3/lib/python3.6/site-packages/honeybee/radiance/sky/skymatrix.py\u001b[0m in \u001b[0;36mexecute\u001b[0;34m(self, working_dir, reuse)\u001b[0m\n\u001b[1;32m    227\u001b[0m             \u001b[0mweafilepath\u001b[0m \u001b[0;34m=\u001b[0m \u001b[0mos\u001b[0m\u001b[0;34m.\u001b[0m\u001b[0mpath\u001b[0m\u001b[0;34m.\u001b[0m\u001b[0mjoin\u001b[0m\u001b[0;34m(\u001b[0m\u001b[0mworking_dir\u001b[0m\u001b[0;34m,\u001b[0m \u001b[0;34m'{}.wea'\u001b[0m\u001b[0;34m.\u001b[0m\u001b[0mformat\u001b[0m\u001b[0;34m(\u001b[0m\u001b[0mself\u001b[0m\u001b[0;34m.\u001b[0m\u001b[0mname\u001b[0m\u001b[0;34m)\u001b[0m\u001b[0;34m)\u001b[0m\u001b[0;34m\u001b[0m\u001b[0;34m\u001b[0m\u001b[0m\n\u001b[1;32m    228\u001b[0m             \u001b[0mweafilepath\u001b[0m \u001b[0;34m=\u001b[0m \u001b[0mself\u001b[0m\u001b[0;34m.\u001b[0m\u001b[0mwea\u001b[0m\u001b[0;34m.\u001b[0m\u001b[0mwrite\u001b[0m\u001b[0;34m(\u001b[0m\u001b[0mweafilepath\u001b[0m\u001b[0;34m)\u001b[0m\u001b[0;34m\u001b[0m\u001b[0;34m\u001b[0m\u001b[0m\n\u001b[0;32m--> 229\u001b[0;31m             \u001b[0mgenday\u001b[0m \u001b[0;34m=\u001b[0m \u001b[0mGendaymtx\u001b[0m\u001b[0;34m(\u001b[0m\u001b[0mwea_file\u001b[0m\u001b[0;34m=\u001b[0m\u001b[0mweafilepath\u001b[0m\u001b[0;34m,\u001b[0m \u001b[0moutput_name\u001b[0m\u001b[0;34m=\u001b[0m\u001b[0moutfilepath\u001b[0m\u001b[0;34m)\u001b[0m\u001b[0;34m\u001b[0m\u001b[0;34m\u001b[0m\u001b[0m\n\u001b[0m\u001b[1;32m    230\u001b[0m             \u001b[0mgenday\u001b[0m\u001b[0;34m.\u001b[0m\u001b[0mgendaymtx_parameters\u001b[0m \u001b[0;34m=\u001b[0m \u001b[0mself\u001b[0m\u001b[0;34m.\u001b[0m\u001b[0m_sky_matrixParameters\u001b[0m\u001b[0;34m\u001b[0m\u001b[0;34m\u001b[0m\u001b[0m\n\u001b[1;32m    231\u001b[0m             \u001b[0mgenday\u001b[0m\u001b[0;34m.\u001b[0m\u001b[0mgendaymtx_parameters\u001b[0m\u001b[0;34m.\u001b[0m\u001b[0moutput_type\u001b[0m \u001b[0;34m=\u001b[0m \u001b[0mself\u001b[0m\u001b[0;34m.\u001b[0m\u001b[0msky_type\u001b[0m\u001b[0;34m\u001b[0m\u001b[0;34m\u001b[0m\u001b[0m\n",
      "\u001b[0;32m/anaconda3/lib/python3.6/site-packages/honeybee/radiance/command/gendaymtx.py\u001b[0m in \u001b[0;36m__init__\u001b[0;34m(self, output_name, wea_file, gendaymtx_parameters)\u001b[0m\n\u001b[1;32m     64\u001b[0m     \u001b[0;32mdef\u001b[0m \u001b[0m__init__\u001b[0m\u001b[0;34m(\u001b[0m\u001b[0mself\u001b[0m\u001b[0;34m,\u001b[0m \u001b[0moutput_name\u001b[0m\u001b[0;34m=\u001b[0m\u001b[0;32mNone\u001b[0m\u001b[0;34m,\u001b[0m \u001b[0mwea_file\u001b[0m\u001b[0;34m=\u001b[0m\u001b[0;32mNone\u001b[0m\u001b[0;34m,\u001b[0m \u001b[0mgendaymtx_parameters\u001b[0m\u001b[0;34m=\u001b[0m\u001b[0;32mNone\u001b[0m\u001b[0;34m)\u001b[0m\u001b[0;34m:\u001b[0m\u001b[0;34m\u001b[0m\u001b[0;34m\u001b[0m\u001b[0m\n\u001b[1;32m     65\u001b[0m         \u001b[0;34m\"\"\"Init command.\"\"\"\u001b[0m\u001b[0;34m\u001b[0m\u001b[0;34m\u001b[0m\u001b[0m\n\u001b[0;32m---> 66\u001b[0;31m         \u001b[0mRadianceCommand\u001b[0m\u001b[0;34m.\u001b[0m\u001b[0m__init__\u001b[0m\u001b[0;34m(\u001b[0m\u001b[0mself\u001b[0m\u001b[0;34m)\u001b[0m\u001b[0;34m\u001b[0m\u001b[0;34m\u001b[0m\u001b[0m\n\u001b[0m\u001b[1;32m     67\u001b[0m \u001b[0;34m\u001b[0m\u001b[0m\n\u001b[1;32m     68\u001b[0m         \u001b[0mself\u001b[0m\u001b[0;34m.\u001b[0m\u001b[0moutput_name\u001b[0m \u001b[0;34m=\u001b[0m \u001b[0moutput_name\u001b[0m\u001b[0;34m\u001b[0m\u001b[0;34m\u001b[0m\u001b[0m\n",
      "\u001b[0;32m/anaconda3/lib/python3.6/site-packages/honeybee/radiance/command/_commandbase.py\u001b[0m in \u001b[0;36m__init__\u001b[0;34m(self, executable_name)\u001b[0m\n\u001b[1;32m     20\u001b[0m         \u001b[0;34m\"\"\"Initialize Radiance command.\"\"\"\u001b[0m\u001b[0;34m\u001b[0m\u001b[0;34m\u001b[0m\u001b[0m\n\u001b[1;32m     21\u001b[0m         \u001b[0mself\u001b[0m\u001b[0;34m.\u001b[0m\u001b[0mexecutable_name\u001b[0m \u001b[0;34m=\u001b[0m \u001b[0mexecutable_name\u001b[0m\u001b[0;34m\u001b[0m\u001b[0;34m\u001b[0m\u001b[0m\n\u001b[0;32m---> 22\u001b[0;31m         \u001b[0mself\u001b[0m\u001b[0;34m.\u001b[0m\u001b[0mradbin_path\u001b[0m \u001b[0;34m=\u001b[0m \u001b[0mconfig\u001b[0m\u001b[0;34m.\u001b[0m\u001b[0mradbin_path\u001b[0m\u001b[0;34m\u001b[0m\u001b[0;34m\u001b[0m\u001b[0m\n\u001b[0m\u001b[1;32m     23\u001b[0m         \u001b[0mself\u001b[0m\u001b[0;34m.\u001b[0m\u001b[0mradlib_path\u001b[0m \u001b[0;34m=\u001b[0m \u001b[0mconfig\u001b[0m\u001b[0;34m.\u001b[0m\u001b[0mradlib_path\u001b[0m\u001b[0;34m\u001b[0m\u001b[0;34m\u001b[0m\u001b[0m\n\u001b[1;32m     24\u001b[0m         \"\"\"Specifiy the name of the executable directly like gensky.exe or\n",
      "\u001b[0;31mAttributeError\u001b[0m: module 'honeybee.config' has no attribute 'radbin_path'"
     ]
    }
   ],
   "source": [
    "# Generate sky matrices\n",
    "# from honeybee.radiance.sky.skymatrix import skymatrix\n",
    "honeybee.radiance.sky.skymatrix.SkyMatrix.from_epw_file(\"./test/weatherfile_AlBateen.epw\").execute(\"./test/\")\n",
    "\n"
   ]
  },
  {
   "cell_type": "code",
   "execution_count": 39,
   "metadata": {},
   "outputs": [
    {
     "ename": "AttributeError",
     "evalue": "module 'honeybee.config' has no attribute 'radlib_path'",
     "output_type": "error",
     "traceback": [
      "\u001b[0;31m---------------------------------------------------------------------------\u001b[0m",
      "\u001b[0;31mAttributeError\u001b[0m                            Traceback (most recent call last)",
      "\u001b[0;32m<ipython-input-39-24b4621c29d2>\u001b[0m in \u001b[0;36m<module>\u001b[0;34m\u001b[0m\n\u001b[1;32m      1\u001b[0m \u001b[0;32mfrom\u001b[0m \u001b[0mhoneybee\u001b[0m \u001b[0;32mimport\u001b[0m \u001b[0mconfig\u001b[0m\u001b[0;34m\u001b[0m\u001b[0;34m\u001b[0m\u001b[0m\n\u001b[0;32m----> 2\u001b[0;31m \u001b[0mprint\u001b[0m\u001b[0;34m(\u001b[0m\u001b[0mconfig\u001b[0m\u001b[0;34m.\u001b[0m\u001b[0mradlib_path\u001b[0m\u001b[0;34m)\u001b[0m\u001b[0;34m\u001b[0m\u001b[0;34m\u001b[0m\u001b[0m\n\u001b[0m\u001b[1;32m      3\u001b[0m \u001b[0mprint\u001b[0m\u001b[0;34m(\u001b[0m\u001b[0mconfig\u001b[0m\u001b[0;34m.\u001b[0m\u001b[0mradbin_path\u001b[0m\u001b[0;34m)\u001b[0m\u001b[0;34m\u001b[0m\u001b[0;34m\u001b[0m\u001b[0m\n\u001b[1;32m      4\u001b[0m \u001b[0mprint\u001b[0m\u001b[0;34m(\u001b[0m\u001b[0mconfig\u001b[0m\u001b[0;34m.\u001b[0m\u001b[0mplatform\u001b[0m\u001b[0;34m)\u001b[0m\u001b[0;34m\u001b[0m\u001b[0;34m\u001b[0m\u001b[0m\n\u001b[1;32m      5\u001b[0m \u001b[0;31m# config.radbin_path = \"c:/radiance/bin\"\u001b[0m\u001b[0;34m\u001b[0m\u001b[0;34m\u001b[0m\u001b[0;34m\u001b[0m\u001b[0m\n",
      "\u001b[0;31mAttributeError\u001b[0m: module 'honeybee.config' has no attribute 'radlib_path'"
     ]
    }
   ],
   "source": [
    "from honeybee import config\n",
    "print(config.radlib_path)\n",
    "print(config.radbin_path)\n",
    "print(config.platform)\n",
    "# config.radbin_path = \"c:/radiance/bin\""
   ]
  },
  {
   "cell_type": "code",
   "execution_count": null,
   "metadata": {},
   "outputs": [],
   "source": []
  },
  {
   "cell_type": "code",
   "execution_count": null,
   "metadata": {},
   "outputs": [],
   "source": []
  },
  {
   "cell_type": "code",
   "execution_count": null,
   "metadata": {},
   "outputs": [],
   "source": []
  },
  {
   "cell_type": "code",
   "execution_count": null,
   "metadata": {},
   "outputs": [],
   "source": []
  },
  {
   "cell_type": "code",
   "execution_count": null,
   "metadata": {},
   "outputs": [],
   "source": []
  },
  {
   "cell_type": "code",
   "execution_count": 21,
   "metadata": {},
   "outputs": [],
   "source": [
    "from ladybug_comfort.collection.utci import UTCI"
   ]
  },
  {
   "cell_type": "code",
   "execution_count": null,
   "metadata": {},
   "outputs": [],
   "source": []
  },
  {
   "cell_type": "code",
   "execution_count": 19,
   "metadata": {},
   "outputs": [
    {
     "name": "stdout",
     "output_type": "stream",
     "text": [
      "Help on package ladybug_comfort:\n",
      "\n",
      "NAME\n",
      "    ladybug_comfort - Ladybug thermal comfort libraries.\n",
      "\n",
      "PACKAGE CONTENTS\n",
      "    adaptive\n",
      "    asv\n",
      "    at\n",
      "    collection (package)\n",
      "    degreetime\n",
      "    di\n",
      "    hi\n",
      "    humidex\n",
      "    parameter (package)\n",
      "    pmv\n",
      "    solarcal\n",
      "    ts\n",
      "    utci\n",
      "    wc\n",
      "\n",
      "FILE\n",
      "    /anaconda3/lib/python3.6/site-packages/ladybug_comfort/__init__.py\n",
      "\n",
      "\n"
     ]
    }
   ],
   "source": [
    "help(ladybug_comfort)"
   ]
  },
  {
   "cell_type": "code",
   "execution_count": null,
   "metadata": {},
   "outputs": [],
   "source": []
  },
  {
   "cell_type": "code",
   "execution_count": null,
   "metadata": {},
   "outputs": [],
   "source": []
  },
  {
   "cell_type": "code",
   "execution_count": null,
   "metadata": {},
   "outputs": [],
   "source": []
  },
  {
   "cell_type": "code",
   "execution_count": null,
   "metadata": {},
   "outputs": [],
   "source": []
  },
  {
   "cell_type": "code",
   "execution_count": null,
   "metadata": {},
   "outputs": [],
   "source": []
  },
  {
   "cell_type": "code",
   "execution_count": null,
   "metadata": {},
   "outputs": [],
   "source": []
  },
  {
   "cell_type": "code",
   "execution_count": null,
   "metadata": {},
   "outputs": [],
   "source": []
  },
  {
   "cell_type": "code",
   "execution_count": null,
   "metadata": {},
   "outputs": [],
   "source": [
    "# Geometry methods\n",
    "# - FibonacciSphereSpherical (n)\n",
    "# - FibonacciSphereCartesian (n)\n",
    "# - SkyDome (m), ClosestNPoints, Resample\n",
    "\n"
   ]
  }
 ],
 "metadata": {
  "kernelspec": {
   "display_name": "Python 3",
   "language": "python",
   "name": "python3"
  },
  "language_info": {
   "codemirror_mode": {
    "name": "ipython",
    "version": 3
   },
   "file_extension": ".py",
   "mimetype": "text/x-python",
   "name": "python",
   "nbconvert_exporter": "python",
   "pygments_lexer": "ipython3",
   "version": "3.7.0"
  }
 },
 "nbformat": 4,
 "nbformat_minor": 2
}
