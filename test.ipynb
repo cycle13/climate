{
 "cells": [
  {
   "cell_type": "code",
   "execution_count": 5,
   "metadata": {},
   "outputs": [
    {
     "name": "stdout",
     "output_type": "stream",
     "text": [
      "Solar position calculations successful\n",
      "Psychrometric calculations successful\n",
      "WEA file created: /Users/Tristan/Desktop/climate/test/weatherfile.wea\n",
      "Direct sky matrix calculated: /Users/Tristan/Desktop/climate/test/weatherfile.dirmtx\n",
      "Diffuse sky matrix calculated: /Users/Tristan/Desktop/climate/test/weatherfile.diffmtx\n"
     ]
    }
   ],
   "source": [
    "%matplotlib inline\n",
    "import warnings\n",
    "warnings.filterwarnings('ignore')\n",
    "\n",
    "from climate.helpers import *\n",
    "from climate.climate import Weather\n",
    "weather = Weather(\"./test/weatherfile.epw\").read(psychrometrics=True, sun_position=True, sky_matrix=True)"
   ]
  },
  {
   "cell_type": "markdown",
   "metadata": {},
   "source": [
    "# Define the annual method for calculation!!"
   ]
  },
  {
   "cell_type": "code",
   "execution_count": 12,
   "metadata": {},
   "outputs": [
    {
     "ename": "UnboundLocalError",
     "evalue": "local variable 'SkyEmissivity' referenced before assignment",
     "output_type": "error",
     "traceback": [
      "\u001b[0;31m---------------------------------------------------------------------------\u001b[0m",
      "\u001b[0;31mUnboundLocalError\u001b[0m                         Traceback (most recent call last)",
      "\u001b[0;32m<ipython-input-12-1cc085db4026>\u001b[0m in \u001b[0;36m<module>\u001b[0;34m\u001b[0m\n\u001b[1;32m     33\u001b[0m \u001b[0;34m\u001b[0m\u001b[0m\n\u001b[1;32m     34\u001b[0m \u001b[0;31m# Load variables from elsewhere\u001b[0m\u001b[0;34m\u001b[0m\u001b[0;34m\u001b[0m\u001b[0;34m\u001b[0m\u001b[0m\n\u001b[0;32m---> 35\u001b[0;31m \u001b[0mnv\u001b[0m \u001b[0;34m=\u001b[0m \u001b[0mNV\u001b[0m\u001b[0;34m(\u001b[0m\u001b[0mweather\u001b[0m\u001b[0;34m)\u001b[0m\u001b[0;34m\u001b[0m\u001b[0;34m\u001b[0m\u001b[0m\n\u001b[0m\u001b[1;32m     36\u001b[0m \u001b[0mnv\u001b[0m\u001b[0;34m.\u001b[0m\u001b[0msky_emissivity\u001b[0m\u001b[0;34m\u001b[0m\u001b[0;34m\u001b[0m\u001b[0m\n\u001b[1;32m     37\u001b[0m \u001b[0;34m\u001b[0m\u001b[0m\n",
      "\u001b[0;32m<ipython-input-12-1cc085db4026>\u001b[0m in \u001b[0;36m__init__\u001b[0;34m(self, weather)\u001b[0m\n\u001b[1;32m      8\u001b[0m         \u001b[0mNV\u001b[0m\u001b[0;34m.\u001b[0m\u001b[0mrelative_humidity\u001b[0m \u001b[0;34m=\u001b[0m \u001b[0mweather\u001b[0m\u001b[0;34m.\u001b[0m\u001b[0mrelative_humidity\u001b[0m\u001b[0;34m\u001b[0m\u001b[0;34m\u001b[0m\u001b[0m\n\u001b[1;32m      9\u001b[0m         \u001b[0mNV\u001b[0m\u001b[0;34m.\u001b[0m\u001b[0mtotal_sky_cover\u001b[0m \u001b[0;34m=\u001b[0m \u001b[0mweather\u001b[0m\u001b[0;34m.\u001b[0m\u001b[0mtotal_sky_cover\u001b[0m \u001b[0;34m/\u001b[0m \u001b[0;36m10\u001b[0m\u001b[0;34m\u001b[0m\u001b[0;34m\u001b[0m\u001b[0m\n\u001b[0;32m---> 10\u001b[0;31m         \u001b[0mself\u001b[0m\u001b[0;34m.\u001b[0m\u001b[0msky_emissivity\u001b[0m \u001b[0;34m=\u001b[0m \u001b[0mSkyEmissivity\u001b[0m\u001b[0;34m(\u001b[0m\u001b[0;34m)\u001b[0m\u001b[0;34m\u001b[0m\u001b[0;34m\u001b[0m\u001b[0m\n\u001b[0m\u001b[1;32m     11\u001b[0m         \u001b[0mself\u001b[0m\u001b[0;34m.\u001b[0m\u001b[0mhorizontal_infrared_radiation_intensity\u001b[0m \u001b[0;34m=\u001b[0m \u001b[0mweather\u001b[0m\u001b[0;34m.\u001b[0m\u001b[0mhorizontal_infrared_radiation_intensity\u001b[0m\u001b[0;34m\u001b[0m\u001b[0;34m\u001b[0m\u001b[0m\n\u001b[1;32m     12\u001b[0m         \u001b[0mself\u001b[0m\u001b[0;34m.\u001b[0m\u001b[0mpedestrian_wind_speed\u001b[0m \u001b[0;34m=\u001b[0m \u001b[0;32mNone\u001b[0m\u001b[0;34m\u001b[0m\u001b[0;34m\u001b[0m\u001b[0m\n",
      "\u001b[0;31mUnboundLocalError\u001b[0m: local variable 'SkyEmissivity' referenced before assignment"
     ]
    }
   ],
   "source": [
    "class NV(object):\n",
    "\n",
    "    def __init__(self, weather):\n",
    "        \n",
    "        # Hourly climate properties\n",
    "        self.dry_bulb_temperature = weather.dry_bulb_temperature\n",
    "        self.dew_point_temperature = weather.dew_point_temperature\n",
    "        self.relative_humidity = weather.relative_humidity\n",
    "        self.total_sky_cover = weather.total_sky_cover / 10\n",
    "        self.sky_emissivity = None\n",
    "        self.horizontal_infrared_radiation_intensity = weather.horizontal_infrared_radiation_intensity\n",
    "        self.pedestrian_wind_speed = None\n",
    "        \n",
    "        # Ground/material properties\n",
    "        self.ground_temperature = None\n",
    "        self.ground_convective_heat_transfer_coefficient = None\n",
    "        self.ground_k_value = None\n",
    "        self.ground_emissivity = None\n",
    "        self.ground_absorptivity = None\n",
    "        self.ground_thickness = None\n",
    "        self.ground_surface_temperature = None\n",
    "        \n",
    "        # Sky dome/radiation properties\n",
    "        self.sky_dome_patch_radiation = None\n",
    "        self.sky_dome_patch_centroids = None\n",
    "        self.sample_vectors_issky = None\n",
    "        self.sample_vectors_elevation = None\n",
    "        self.sample_vectors = None\n",
    "        \n",
    "        \n",
    "        \n",
    "        # Methods\n",
    "        def SkyEmissivity(self):\n",
    "            return (0.787 + 0.764 * np.log((self.dew_point_temperature + 273.15) / 273.15)) * (1 + 0.0224 * self.total_sky_cover - 0.0035 * np.power(self.total_sky_cover, 2) + 0.0028 * np.power(self.total_sky_cover, 3))\n",
    "\n",
    "# Load variables from elsewhere\n",
    "nv = NV(weather)\n",
    "nv.sky_emissivity\n",
    "\n"
   ]
  },
  {
   "cell_type": "code",
   "execution_count": null,
   "metadata": {},
   "outputs": [],
   "source": []
  },
  {
   "cell_type": "code",
   "execution_count": null,
   "metadata": {},
   "outputs": [],
   "source": []
  },
  {
   "cell_type": "code",
   "execution_count": null,
   "metadata": {},
   "outputs": [],
   "source": []
  },
  {
   "cell_type": "code",
   "execution_count": null,
   "metadata": {},
   "outputs": [],
   "source": []
  },
  {
   "cell_type": "code",
   "execution_count": null,
   "metadata": {},
   "outputs": [],
   "source": []
  },
  {
   "cell_type": "code",
   "execution_count": null,
   "metadata": {},
   "outputs": [],
   "source": []
  },
  {
   "cell_type": "markdown",
   "metadata": {},
   "source": [
    "# Development"
   ]
  },
  {
   "cell_type": "code",
   "execution_count": 3,
   "metadata": {},
   "outputs": [
    {
     "data": {
      "text/plain": [
       "Timestamp('2018-05-13 14:00:00+0000', tz='UTC', freq='60T')"
      ]
     },
     "execution_count": 3,
     "metadata": {},
     "output_type": "execute_result"
    }
   ],
   "source": [
    "nhour = 3183 - 1\n",
    "weather.index[nhour]"
   ]
  },
  {
   "cell_type": "code",
   "execution_count": 27,
   "metadata": {},
   "outputs": [
    {
     "data": {
      "text/plain": [
       "2.5013995959072965"
      ]
     },
     "execution_count": 27,
     "metadata": {},
     "output_type": "execute_result"
    }
   ],
   "source": [
    "# Pedestrian wind speed\n",
    "pws = wind_speed_at_height(weather.wind_speed[nhour], h1=10, h2=2.0, rc=0.5, log=True)\n",
    "# pws = 5.34834\n",
    "pws"
   ]
  },
  {
   "cell_type": "code",
   "execution_count": 28,
   "metadata": {},
   "outputs": [
    {
     "data": {
      "text/plain": [
       "(7.75, 11.0, 11.0, 100, 0.8, 332)"
      ]
     },
     "execution_count": 28,
     "metadata": {},
     "output_type": "execute_result"
    }
   ],
   "source": [
    "gnd_temp = weather.ground_temperature_1[nhour]\n",
    "dbt = weather.dry_bulb_temperature[nhour]\n",
    "dpt = weather.dew_point_temperature[nhour]\n",
    "rh = weather.relative_humidity[nhour]\n",
    "tot_sky_cover = weather.total_sky_cover[nhour] / 10\n",
    "hir = weather.horizontal_infrared_radiation_intensity[nhour]\n",
    "\n",
    "(gnd_temp, dbt, dpt, rh, tot_sky_cover, hir)"
   ]
  },
  {
   "cell_type": "code",
   "execution_count": 29,
   "metadata": {},
   "outputs": [
    {
     "data": {
      "text/plain": [
       "(array([0.74866746, 0.74859408, 0.74859408, 0.7497263 ]),\n",
       " array([[ 0.04471018, -0.999     ,  0.        ],\n",
       "        [-0.05707349, -0.997     ,  0.052284  ],\n",
       "        [ 0.00873164, -0.995     , -0.0994925 ],\n",
       "        [ 0.07186536, -0.993     ,  0.09373564]]),\n",
       " array([0.        , 0.05230785, 0.09965738, 0.09387345]),\n",
       " array([False,  True, False,  True]))"
      ]
     },
     "execution_count": 29,
     "metadata": {},
     "output_type": "execute_result"
    }
   ],
   "source": [
    "# Generate Numerous Vectors\n",
    "weather.generate_numerous_vectors()\n",
    "tsm = weather.total_sky_matrix[nhour]\n",
    "vec = weather.nv_sample_vectors\n",
    "alt = weather.nv_sample_thetas\n",
    "sky = weather.nv_sample_sky\n",
    "\n",
    "tsm[0:4], vec[0:4], alt[0:4], sky[0:4], "
   ]
  },
  {
   "cell_type": "code",
   "execution_count": 13,
   "metadata": {},
   "outputs": [
    {
     "data": {
      "text/plain": [
       "array([1.19066199, 1.03459821, 1.03459821, ..., 1.03459821, 0.89864187,\n",
       "       1.19066199])"
      ]
     },
     "execution_count": 13,
     "metadata": {},
     "output_type": "execute_result"
    }
   ],
   "source": [
    "np.interp(np.power(weather.relative_humidity, 3), [0, 1e6], [0.33, 1.4])"
   ]
  },
  {
   "cell_type": "code",
   "execution_count": 30,
   "metadata": {},
   "outputs": [
    {
     "data": {
      "text/plain": [
       "1.4"
      ]
     },
     "execution_count": 30,
     "metadata": {},
     "output_type": "execute_result"
    }
   ],
   "source": [
    "# Surface Temperature \"k\"\n",
    "k = np.interp(np.power(rh, 3), [0, 1e6], [0.33, 1.4])\n",
    "k"
   ]
  },
  {
   "cell_type": "code",
   "execution_count": 31,
   "metadata": {},
   "outputs": [
    {
     "data": {
      "text/plain": [
       "0.8311482273571045"
      ]
     },
     "execution_count": 31,
     "metadata": {},
     "output_type": "execute_result"
    }
   ],
   "source": [
    "weather.calculate_sky_emissivity()\n",
    "se = weather.sky_emissivity[nhour]\n",
    "se"
   ]
  },
  {
   "cell_type": "code",
   "execution_count": 32,
   "metadata": {},
   "outputs": [
    {
     "data": {
      "text/plain": [
       "21.275867106043385"
      ]
     },
     "execution_count": 32,
     "metadata": {},
     "output_type": "execute_result"
    }
   ],
   "source": [
    "material = {'Concrete (Medium Rough)': {\"D\": 10.79, \"E\": 4.192, \"F\": 0}}\n",
    "c_hc = material['Concrete (Medium Rough)'][\"D\"] + material['Concrete (Medium Rough)'][\"E\"] * pws + material['Concrete (Medium Rough)'][\"F\"] * np.power(pws, 2)\n",
    "c_hc"
   ]
  },
  {
   "cell_type": "code",
   "execution_count": 10,
   "metadata": {},
   "outputs": [
    {
     "data": {
      "text/plain": [
       "array([[0.      , 0.997474, 0.054056],\n",
       "       [0.104264, 0.99201 , 0.054056],\n",
       "       [0.207387, 0.975677, 0.054056],\n",
       "       [0.308237, 0.948654, 0.054056]])"
      ]
     },
     "execution_count": 10,
     "metadata": {},
     "output_type": "execute_result"
    }
   ],
   "source": [
    "pc = weather.patch_centroids\n",
    "pc[0:4]"
   ]
  },
  {
   "cell_type": "code",
   "execution_count": 11,
   "metadata": {},
   "outputs": [
    {
     "data": {
      "text/plain": [
       "(array([[30, 29, 31],\n",
       "        [31, 30, 91],\n",
       "        [30, 29, 31]]), array([[0.0701668 , 0.08073146, 0.15863233],\n",
       "        [0.04748667, 0.05710296, 0.11968513],\n",
       "        [0.15381647, 0.18086602, 0.19066751]]))"
      ]
     },
     "execution_count": 11,
     "metadata": {},
     "output_type": "execute_result"
    }
   ],
   "source": [
    "weather.resample_sky_dome()\n",
    "item = weather.nv_sample_indices\n",
    "dis = weather.nv_sample_distances\n",
    "item[0:3], dis[0:3]"
   ]
  },
  {
   "cell_type": "code",
   "execution_count": 12,
   "metadata": {},
   "outputs": [
    {
     "data": {
      "text/plain": [
       "array([0.        , 0.28872487, 0.        , 0.28932453, 0.        ,\n",
       "       0.        , 0.28929047, 0.        , 0.28892727, 0.28910144])"
      ]
     },
     "execution_count": 12,
     "metadata": {},
     "output_type": "execute_result"
    }
   ],
   "source": [
    "weather.calculate_sun_view_factor()\n",
    "svf = weather.nv_sun_view_factor\n",
    "svf[0:10]"
   ]
  },
  {
   "cell_type": "code",
   "execution_count": 13,
   "metadata": {},
   "outputs": [
    {
     "data": {
      "text/plain": [
       "(array([[ 0.04471 , -0.999   ,  0.      ],\n",
       "        [-0.057073, -0.997   ,  0.052284],\n",
       "        [ 0.008732, -0.995   ,  0.099493],\n",
       "        [ 0.071865, -0.993   ,  0.093736]]), array([0, 0, 1, 0, 1, 1, 0]))"
      ]
     },
     "execution_count": 13,
     "metadata": {},
     "output_type": "execute_result"
    }
   ],
   "source": [
    "weather.ray_trace_1000()\n",
    "last_vector = weather.nv_last_ray_bounce_vector\n",
    "len_int = weather.nv_intersected_points\n",
    "last_vector[0:4], len_int[0:7], "
   ]
  },
  {
   "cell_type": "code",
   "execution_count": 14,
   "metadata": {},
   "outputs": [
    {
     "data": {
      "text/plain": [
       "array([0, 1, 3, 3, 4, 8, 6])"
      ]
     },
     "execution_count": 14,
     "metadata": {},
     "output_type": "execute_result"
    }
   ],
   "source": [
    "# weather.closest_point(vec, last_vector[0])\n",
    "\n",
    "from scipy import spatial\n",
    "_, inds = spatial.KDTree(vec).query(last_vector, 1)\n",
    "inds[0:7]"
   ]
  },
  {
   "cell_type": "code",
   "execution_count": 15,
   "metadata": {},
   "outputs": [
    {
     "data": {
      "text/plain": [
       "array([0.        , 1.18559257, 0.        , 1.07918591, 0.        ,\n",
       "       0.        , 1.14858183, 0.        ])"
      ]
     },
     "execution_count": 15,
     "metadata": {},
     "output_type": "execute_result"
    }
   ],
   "source": [
    "weather.calculate_numerous_vector_radiation_values()\n",
    "nvrad = weather.nv_radiation[nhour]\n",
    "nvrad[0:8]\n",
    "# Differences from interpretation of direct/diffuse radiaiton skly dome values - mine is better :)"
   ]
  },
  {
   "cell_type": "code",
   "execution_count": 16,
   "metadata": {},
   "outputs": [
    {
     "data": {
      "text/plain": [
       "458.08880400038174"
      ]
     },
     "execution_count": 16,
     "metadata": {},
     "output_type": "execute_result"
    }
   ],
   "source": [
    "weather.m2_total_radiation()\n",
    "m2rad = weather.nv_m2_radiation[nhour]\n",
    "m2rad"
   ]
  },
  {
   "cell_type": "code",
   "execution_count": 17,
   "metadata": {},
   "outputs": [
    {
     "data": {
      "text/plain": [
       "array([0.        , 0.34231006, 0.31223495, 0.31223495, 0.        ,\n",
       "       0.29723874, 0.33227377])"
      ]
     },
     "execution_count": 17,
     "metadata": {},
     "output_type": "execute_result"
    }
   ],
   "source": [
    "weather.calculate_ein()\n",
    "ein = weather.nv_ein[nhour]\n",
    "ein[0:7]"
   ]
  },
  {
   "cell_type": "code",
   "execution_count": 48,
   "metadata": {},
   "outputs": [
    {
     "data": {
      "text/plain": [
       "240.120035336094"
      ]
     },
     "execution_count": 48,
     "metadata": {},
     "output_type": "execute_result"
    }
   ],
   "source": [
    "# Ein Out\n",
    "ground_albedo = 0.2\n",
    "Eout = sum(np.power(ground_albedo, len_int) * ein)\n",
    "Eout"
   ]
  },
  {
   "cell_type": "code",
   "execution_count": 58,
   "metadata": {},
   "outputs": [
    {
     "name": "stdout",
     "output_type": "stream",
     "text": [
      "[1, 2]\n"
     ]
    },
    {
     "data": {
      "text/plain": [
       "[283.1729880630722]"
      ]
     },
     "execution_count": 58,
     "metadata": {},
     "output_type": "execute_result"
    }
   ],
   "source": [
    "emissivity = 0.8\n",
    "absorptivity = 0.6\n",
    "tickness = 0.8\n",
    "# k = k\n",
    "Ein = m2rad\n",
    "Tin = gnd_temp\n",
    "Ta = dbt\n",
    "hc = c_hc\n",
    "\n",
    "d=5.67*(10**(-8))\n",
    "Tin=Tin+273.15\n",
    "Ta=Ta+273.15\n",
    "a=emissivity*d\n",
    "b=k/tickness+hc\n",
    "c=-(k*Tin/tickness+Ein*absorptivity+hc*Ta)\n",
    "\n",
    "\n",
    "Ts=[]\n",
    "nnn=[]\n",
    "try:\n",
    "    X = 1/2 *math.sqrt((4*(2/3)**(1/3)*c)/(math.sqrt(3)*math.sqrt(27*a**2*b**4-256*a**3*c**3)+9*a*b**2)**(1/3)+(math.sqrt(3)*math.sqrt(27*a**2*b**4-256*a**3*c**3)+9*a*b**2)**(1/3)/(2**(1/3)*3**(2/3)*a))-1/2*math.sqrt(-(2*b)/(a *math.sqrt((4* (2/3)**(1/3)*c)/(math.sqrt(3)*math.sqrt(27 *a**2 *b**4-256* a**3* c**3)+9*a*b**2)**(1/3)+(math.sqrt(3)*math.sqrt(27*a**2*b**4-256*a**3*c**3)+9*a*b**2)**(1/3)/(2**(1/3)*3**(2/3)*a)))-(math.sqrt(3)*math.sqrt(27*a**2*b**4-256*a**3*c**3)+9*a*b**2)**(1/3)/(2**(1/3)*3**(2/3)*a)-(4*(2/3)**(1/3)*c)/(math.sqrt(3)*math.sqrt(27*a**2* b**4-256* a**3*c**3)+9*a*b**2)**(1/3))\n",
    "    if 0<X:\n",
    "        Ts.append(X)\n",
    "except: nnn.append(1)\n",
    "\n",
    "try:\n",
    "    X = 1/2 *math.sqrt((4*(2/3)**(1/3)*c)/(math.sqrt(3)*math.sqrt(27*a**2*b**4-256*a**3*c**3)+9*a*b**2)**(1/3)+(math.sqrt(3)*math.sqrt(27*a**2*b**4-256*a**3*c**3)+9*a*b**2)**(1/3)/(2**(1/3)*3**(2/3)*a))+1/2*math.sqrt(-(2*b)/(a*math.sqrt((4*(2/3)**(1/3)*c)/(math.sqrt(3)*math.sqrt(27*a**2*b**4-256*a**3*c**3)+9*a*b**2)**(1/3)+(math.sqrt(3)*math.sqrt(27*a**2*b**4-256*a**3*c**3)+9*a*b**2)**(1/3)/(2**(1/3)*3**(2/3)*a)))-(math.sqrt(3)*math.sqrt(27*a**2*b**4-256*a**3*c**3)+9*a*b**2)**(1/3)/(2**(1/3)*3**(2/3)*a)-(4*(2/3)**(1/3)*c)/(math.sqrt(3)*math.sqrt(27*a**2*b**4-256*a**3*c**3)+9*a*b**2)**(1/3))\n",
    "    if 0<X:\n",
    "        Ts.append(X)\n",
    "except: nnn.append(2)\n",
    "\n",
    "try:\n",
    "    X =-1/2 *math.sqrt((4*(2/3)**(1/3)*c)/(math.sqrt(3)*math.sqrt(27*a**2*b**4-256*a**3*c**3)+9*a*b**2)**(1/3)+(math.sqrt(3)*math.sqrt(27*a**2*b**4-256*a**3*c**3)+9*a*b**2)**(1/3)/(2**(1/3)*3**(2/3)*a))-1/2*math.sqrt((2*b)/(a*math.sqrt((4*(2/3)**(1/3)*c)/(math.sqrt(3)*math.sqrt(27*a**2*b**4-256*a**3*c**3)+9*a*b**2)**(1/3)+(math.sqrt(3)*math.sqrt(27*a**2*b**4-256*a**3*c**3)+9*a*b**2)**(1/3)/(2**(1/3)*3**(2/3)*a)))-(math.sqrt(3)*math.sqrt(27*a**2*b**4-256*a**3*c**3)+9*a*b**2)**(1/3)/(2**(1/3)*3**(2/3)*a)-(4*(2/3)**(1/3)*c)/(math.sqrt(3)*math.sqrt(27*a**2*b**4-256*a**3*c**3)+9*a*b**2)**(1/3))\n",
    "    if 0<X:\n",
    "        Ts.append(X)\n",
    "except: nnn.append(3)\n",
    "\n",
    "try:\n",
    "    X = 1/2 *math.sqrt((2*b)/(a*math.sqrt((4*(2/3)**(1/3)*c)/(math.sqrt(3)*math.sqrt(27*a**2*b**4-256*a**3*c**3)+9*a*b**2)**(1/3)+(math.sqrt(3)*math.sqrt(27*a**2*b**4-256*a**3*c**3)+9*a*b**2)**(1/3)/(2**(1/3)*3**(2/3)*a)))-(math.sqrt(3)*math.sqrt(27*a**2*b**4-256*a**3*c**3)+9*a*b**2)**(1/3)/(2**(1/3)*3**(2/3)*a)-(4*(2/3)**(1/3)*c)/(math.sqrt(3)*math.sqrt(27*a**2*b**4-256*a**3*c**3)+9*a*b**2)**(1/3))-1/2*math.sqrt((4*(2/3)**(1/3)*c)/(math.sqrt(3)*math.sqrt(27*a**2*b**4-256*a**3*c**3)+9*a*b**2)**(1/3)+(math.sqrt(3)*math.sqrt(27*a**2*b**4-256*a**3*c**3)+9*a*b**2)**(1/3)/(2**(1/3)*3**(2/3)*a))\n",
    "    if 0<X:\n",
    "        Ts.append(X)\n",
    "except: nnn.append(4)\n",
    "print(nnn)\n",
    "\n",
    "Tsc=[]\n",
    "for i in Ts:\n",
    "    Tsc.append(i-273.15)\n",
    "e_out=[]\n",
    "for i in Ts:\n",
    "    E=a*(i**4)\n",
    "    e_out.append(E)\n",
    "\n",
    "# Surface tempertaure\n",
    "Ts"
   ]
  },
  {
   "cell_type": "code",
   "execution_count": 59,
   "metadata": {},
   "outputs": [
    {
     "data": {
      "text/plain": [
       "275.9412114825587"
      ]
     },
     "execution_count": 59,
     "metadata": {},
     "output_type": "execute_result"
    }
   ],
   "source": [
    "# Atmospheric Radiation\n",
    "\n",
    "SVF = 1\n",
    "TotalSky = se * hir * SVF\n",
    "\n",
    "TotalSky"
   ]
  },
  {
   "cell_type": "code",
   "execution_count": 60,
   "metadata": {},
   "outputs": [
    {
     "data": {
      "text/plain": [
       "168.08402473526579"
      ]
     },
     "execution_count": 60,
     "metadata": {},
     "output_type": "execute_result"
    }
   ],
   "source": [
    "# Solar Radiation\n",
    "\n",
    "σ= 5.6697*10**(-8)\n",
    "ap=0.7\n",
    "if Eout:\n",
    "    TotalSol=ap*Eout\n",
    "else: \n",
    "    TotalSol=0\n",
    "TotalSol"
   ]
  },
  {
   "cell_type": "code",
   "execution_count": 63,
   "metadata": {},
   "outputs": [
    {
     "data": {
      "text/plain": [
       "111.99240865983995"
      ]
     },
     "execution_count": 63,
     "metadata": {},
     "output_type": "execute_result"
    }
   ],
   "source": [
    "#Ground radiation\n",
    "\n",
    "#Eurb = σ.ε.Ts**4\n",
    "#Floor Fv= 0.4\n",
    "\n",
    "A1 = 1.2  # Human area\n",
    "σ= 5.6697*10**(-8)\n",
    "R=[]\n",
    "A2=1\n",
    "for t in Ts:\n",
    "    if t:\n",
    "        a=(A1/A2)  *   emissivity   *   (σ*emissivity*t**4)   *    .4\n",
    "        R.append(a)\n",
    "SR=sum(R)\n",
    "SR"
   ]
  },
  {
   "cell_type": "code",
   "execution_count": 67,
   "metadata": {},
   "outputs": [
    {
     "data": {
      "text/plain": [
       "41.53940663065487"
      ]
     },
     "execution_count": 67,
     "metadata": {},
     "output_type": "execute_result"
    }
   ],
   "source": [
    "σ= 5.6697e-8\n",
    "Tmrt = np.power(((TotalSky + TotalSol + SR) / σ), 0.25) - 273.15\n",
    "Tmrt"
   ]
  },
  {
   "cell_type": "code",
   "execution_count": null,
   "metadata": {},
   "outputs": [],
   "source": []
  }
 ],
 "metadata": {
  "kernelspec": {
   "display_name": "Python 3",
   "language": "python",
   "name": "python3"
  },
  "language_info": {
   "codemirror_mode": {
    "name": "ipython",
    "version": 3
   },
   "file_extension": ".py",
   "mimetype": "text/x-python",
   "name": "python",
   "nbconvert_exporter": "python",
   "pygments_lexer": "ipython3",
   "version": "3.6.8"
  }
 },
 "nbformat": 4,
 "nbformat_minor": 2
}
