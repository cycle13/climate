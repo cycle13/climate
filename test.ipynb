{
 "cells": [
  {
   "cell_type": "code",
   "execution_count": 3,
   "metadata": {},
   "outputs": [
    {
     "name": "stdout",
     "output_type": "stream",
     "text": [
      "The autoreload extension is already loaded. To reload it, use:\n",
      "  %reload_ext autoreload\n"
     ]
    },
    {
     "data": {
      "text/html": [
       "<style>.container { width:95% !important; }</style>"
      ],
      "text/plain": [
       "<IPython.core.display.HTML object>"
      ]
     },
     "metadata": {},
     "output_type": "display_data"
    }
   ],
   "source": [
    "%load_ext autoreload\n",
    "%autoreload 2\n",
    "\n",
    "from IPython.core.display import display, HTML\n",
    "display(HTML(\"<style>.container { width:95% !important; }</style>\"))\n",
    "\n",
    "import warnings\n",
    "warnings.filterwarnings('ignore')\n",
    "\n",
    "%matplotlib inline\n",
    "import matplotlib.pyplot as plt\n",
    "import numpy as np\n",
    "import pandas as pd"
   ]
  },
  {
   "cell_type": "code",
   "execution_count": 4,
   "metadata": {},
   "outputs": [],
   "source": [
    "from climate.core import Weather\n",
    "\n",
    "# Load weather\n",
    "epw_file = \"./test/weatherfile_AlBateen.epw\"\n",
    "weather = Weather(epw_file).read(\n",
    "    sun_position=False, \n",
    "    pedestrian_wind=False, \n",
    "    psychrometrics=False, \n",
    "    ground_temp=False, \n",
    "    sky_matrix=False, \n",
    "    mrt=False, \n",
    "    utci=False, \n",
    "    _set=False,\n",
    "    uwg=False\n",
    ")\n",
    "\n",
    "# weather.plot()"
   ]
  },
  {
   "cell_type": "markdown",
   "metadata": {},
   "source": [
    "# CCWorldWeatherGen"
   ]
  },
  {
   "cell_type": "code",
   "execution_count": 5,
   "metadata": {},
   "outputs": [
    {
     "data": {
      "text/plain": [
       "2018-01-01 00:00:00+04:00    18.0\n",
       "2018-01-01 01:00:00+04:00    17.0\n",
       "2018-01-01 02:00:00+04:00    17.0\n",
       "2018-01-01 03:00:00+04:00    16.0\n",
       "2018-01-01 04:00:00+04:00    15.8\n",
       "                             ... \n",
       "2018-12-31 19:00:00+04:00    22.3\n",
       "2018-12-31 20:00:00+04:00    23.0\n",
       "2018-12-31 21:00:00+04:00    22.5\n",
       "2018-12-31 22:00:00+04:00    22.0\n",
       "2018-12-31 23:00:00+04:00    22.0\n",
       "Freq: H, Name: dry_bulb_temperature, Length: 8760, dtype: float64"
      ]
     },
     "execution_count": 5,
     "metadata": {},
     "output_type": "execute_result"
    }
   ],
   "source": [
    "weather.dry_bulb_temperature"
   ]
  }
 ],
 "metadata": {
  "kernelspec": {
   "display_name": "Python 3",
   "language": "python",
   "name": "python3"
  },
  "language_info": {
   "codemirror_mode": {
    "name": "ipython",
    "version": 3
   },
   "file_extension": ".py",
   "mimetype": "text/x-python",
   "name": "python",
   "nbconvert_exporter": "python",
   "pygments_lexer": "ipython3",
   "version": "3.7.0"
  }
 },
 "nbformat": 4,
 "nbformat_minor": 2
}
