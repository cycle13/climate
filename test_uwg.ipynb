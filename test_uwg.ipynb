{
 "cells": [
  {
   "cell_type": "code",
   "execution_count": 4,
   "metadata": {},
   "outputs": [
    {
     "ename": "ModuleNotFoundError",
     "evalue": "No module named 'uwg.Uwg'",
     "output_type": "error",
     "traceback": [
      "\u001b[1;31m---------------------------------------------------------------------------\u001b[0m",
      "\u001b[1;31mModuleNotFoundError\u001b[0m                       Traceback (most recent call last)",
      "\u001b[1;32m<ipython-input-4-c1b0f663c04d>\u001b[0m in \u001b[0;36m<module>\u001b[1;34m\u001b[0m\n\u001b[1;32m----> 1\u001b[1;33m \u001b[1;32mfrom\u001b[0m \u001b[0muwg\u001b[0m\u001b[1;33m.\u001b[0m\u001b[0mUwg\u001b[0m \u001b[1;32mimport\u001b[0m \u001b[0mUwg\u001b[0m\u001b[1;33m\u001b[0m\u001b[0m\n\u001b[0m\u001b[0;32m      2\u001b[0m \u001b[1;33m\u001b[0m\u001b[0m\n\u001b[0;32m      3\u001b[0m \u001b[1;31m# Define the .epw, .uwg filenames to create an uwg object.\u001b[0m\u001b[1;33m\u001b[0m\u001b[1;33m\u001b[0m\u001b[0m\n\u001b[0;32m      4\u001b[0m \u001b[1;31m# uwg will look for the .epw file in the uwg/resources/epw folder,\u001b[0m\u001b[1;33m\u001b[0m\u001b[1;33m\u001b[0m\u001b[0m\n\u001b[0;32m      5\u001b[0m \u001b[1;31m# and the .uwg file in the uwg/resources/parameters folder.\u001b[0m\u001b[1;33m\u001b[0m\u001b[1;33m\u001b[0m\u001b[0m\n",
      "\u001b[1;31mModuleNotFoundError\u001b[0m: No module named 'uwg.Uwg'"
     ]
    }
   ],
   "source": [
    "from uwg.uwg import uwg\n",
    "\n",
    "# Define the .epw, .uwg filenames to create an uwg object.\n",
    "# uwg will look for the .epw file in the uwg/resources/epw folder,\n",
    "# and the .uwg file in the uwg/resources/parameters folder.\n",
    "epw_filename = \"./test/weatherfile_AlBateen.epw\"      # .epw file name\n",
    "param_filename = \"./uwg/resources/parameters/initialize_singapore.uwg\"         # .uwg file name\n",
    "\n",
    "# Initialize the UWG object and run the simulation\n",
    "uwg_ = uwg(epw_filename, param_filename)\n",
    "uwg_.run()"
   ]
  },
  {
   "cell_type": "code",
   "execution_count": null,
   "metadata": {},
   "outputs": [],
   "source": []
  }
 ],
 "metadata": {
  "kernelspec": {
   "display_name": "Python 3",
   "language": "python",
   "name": "python3"
  },
  "language_info": {
   "codemirror_mode": {
    "name": "ipython",
    "version": 3
   },
   "file_extension": ".py",
   "mimetype": "text/x-python",
   "name": "python",
   "nbconvert_exporter": "python",
   "pygments_lexer": "ipython3",
   "version": "3.7.0"
  }
 },
 "nbformat": 4,
 "nbformat_minor": 2
}
