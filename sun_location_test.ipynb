{
 "cells": [
  {
   "cell_type": "code",
   "execution_count": null,
   "metadata": {},
   "outputs": [
    {
     "data": {
      "text/html": [
       "<script>Jupyter.notebook.kernel.restart()</script>"
      ],
      "text/plain": [
       "<IPython.core.display.HTML object>"
      ]
     },
     "execution_count": 2,
     "metadata": {},
     "output_type": "execute_result"
    }
   ],
   "source": [
    "from IPython.core.display import HTML\n",
    "HTML(\"<script>Jupyter.notebook.kernel.restart()</script>\")"
   ]
  },
  {
   "cell_type": "code",
   "execution_count": 1,
   "metadata": {
    "scrolled": true
   },
   "outputs": [
    {
     "data": {
      "text/plain": [
       "(41.78970846846914, 170.05778320818717)"
      ]
     },
     "execution_count": 1,
     "metadata": {},
     "output_type": "execute_result"
    }
   ],
   "source": [
    "%matplotlib inline\n",
    "import matplotlib.pyplot as plt\n",
    "import pandas as pd\n",
    "\n",
    "import sunpath\n",
    "import math\n",
    "from datetime import datetime, timedelta, timezone\n",
    "\n",
    "# INPUTS #\n",
    "latitude = 24.43\n",
    "longitude = 54.65\n",
    "elevation = 25.5\n",
    "year = 1992\n",
    "month = 12\n",
    "day = 13\n",
    "hour = 11\n",
    "minute = 22\n",
    "second = 31\n",
    "time_zone = 1\n",
    "\n",
    "daylight_saving = False\n",
    "\n",
    "# CALCULATIONS\n",
    "dt = datetime(year, month, day, hour, minute, second, tzinfo=timezone(timedelta(hours=time_zone)))\n",
    "\n",
    "s = sunpath.Sunpath(latitude=latitude, longitude=longitude, time_zone=time_zone, north_angle=0, daylight_saving_period=daylight_saving)\n",
    "dts = sunpath.DateTime(month=dt.month, day=dt.day, hour=dt.hour, minute=dt.minute)\n",
    "\n",
    "s.calculate_sun_from_date_time(dts).altitude, s.calculate_sun_from_date_time(dts).azimuth"
   ]
  },
  {
   "cell_type": "code",
   "execution_count": 62,
   "metadata": {},
   "outputs": [
    {
     "data": {
      "text/plain": [
       "-86.5575531543567"
      ]
     },
     "execution_count": 62,
     "metadata": {},
     "output_type": "execute_result"
    }
   ],
   "source": [
    "from datetime import datetime, time, timedelta, timezone\n",
    "import math\n",
    "\n",
    "# VARIABLES #\n",
    "latitude = 24.43\n",
    "longitude = 54.65\n",
    "elevation = 25.5\n",
    "year = 1992\n",
    "month = 12\n",
    "day = 13\n",
    "hour = 11\n",
    "minute = 22\n",
    "second = 31\n",
    "time_zone = 1\n",
    "daylight_saving = True\n",
    "\n",
    "dt = datetime(year, month, day, hour, minute, second)\n",
    "#, tzinfo=timezone(timedelta(hours=utc_offset))\n",
    "\n",
    "def is_leap_year(year):\n",
    "    \"\"\"Determine whether a year is a leap year.\"\"\"\n",
    "    return year % 4 == 0 and (year % 100 != 0 or year % 400 == 0)\n",
    "\n",
    "def days_since_1900(dt):\n",
    "    return (dt - datetime(1900, 1, 1)).days\n",
    "\n",
    "julian_day = days_since_1900(dt) + 2415018.5 + (dt - datetime.combine(dt.date(), time(0))).total_seconds()/86400 - (float(time_zone) / 24)\n",
    "\n",
    "julian_century = (julian_day - 2451545) / 36525\n",
    "\n",
    "geom_mean_long_sun = (280.46646 + julian_century * (36000.76983 + julian_century * 0.0003032)) % 360\n",
    "\n",
    "geom_mean_anom_sun = 357.52911 + julian_century * (35999.05029 - 0.0001537 * julian_century)\n",
    "\n",
    "eccent_orbit = 0.016708634 - julian_century * (0.000042037 + 0.0000001267 * julian_century)\n",
    "\n",
    "sun_eq_of_ctr = math.sin(math.radians(geom_mean_anom_sun)) * (1.914602 - julian_century * (0.004817 + 0.000014 * julian_century)) + math.sin(math.radians(2 * geom_mean_anom_sun)) * (0.019993 - 0.000101 * julian_century) + math.sin(math.radians(3 * geom_mean_anom_sun)) * 0.000289\n",
    "\n",
    "sun_true_long = geom_mean_long_sun + sun_eq_of_ctr\n",
    "\n",
    "sun_app_long = sun_true_long - 0.00569 - 0.00478 * math.sin(math.radians(125.04 - 1934.136 * julian_century))\n",
    "\n",
    "mean_obliq_ecliptic = 23 + (26 + ((21.448 - julian_century * (46.815 + julian_century * (0.00059 - julian_century * 0.001813)))) / 60) / 60\n",
    "\n",
    "oblique_corr = mean_obliq_ecliptic + 0.00256 * math.cos(math.radians(125.04 - 1934.136 * julian_century))\n",
    "\n",
    "sol_dec = math.degrees(math.asin(math.sin(math.radians(oblique_corr)) * math.sin(math.radians(sun_app_long))))\n",
    "\n",
    "var_y = math.tan(math.radians(oblique_corr / 2)) * math.tan(math.radians(oblique_corr / 2))\n",
    "\n",
    "eq_of_time = 4 * math.degrees(var_y * math.sin(2 * math.radians(geom_mean_long_sun)) - 2 * eccent_orbit * math.sin(math.radians(geom_mean_anom_sun)) + 4 * eccent_orbit * var_y * math.sin(math.radians(geom_mean_anom_sun)) * math.cos(2 * math.radians(geom_mean_long_sun)) - 0.5 * (var_y ** 2) * math.sin(4 * math.radians(geom_mean_long_sun)) - 1.25 * (eccent_orbit ** 2) * math.sin(2 * math.radians(geom_mean_anom_sun)))\n",
    "\n",
    "sol_time = ((dt.hour * 60 + eq_of_time + 4 * longitude - 60 * time_zone) % 1440) / 60\n",
    "\n",
    "hour_angle = sol_time / 4 + 180 if sol_time / 4 < 0 else sol_time / 4 - 180\n",
    "\n",
    "zenith = math.degrees(math.acos(math.sin(math.radians(latitude)) * math.sin(math.radians(sol_dec)) + math.cos(math.radians(latitude)) * math.cos(math.radians(sol_dec)) * math.cos(math.radians(hour_angle))))\n",
    "\n",
    "altitude = 90 - zenith\n",
    "\n",
    "\"\"\"\n",
    "if altitude > 85:\n",
    "            atmos_refraction = 0\n",
    "        else:\n",
    "            if altitude > 5:\n",
    "                atmos_refraction = 58.1 / math.tan(math.radians(altitude))\n",
    "\n",
    "                - 0.07 / (math.tan(math.radians(altitude)))**3\n",
    "                + 0.000086 / (math.tan(math.radians(altitude)))**5\n",
    "            else:\n",
    "                if altitude > -0.575:\n",
    "                    atmos_refraction = 1735\n",
    "\n",
    "                    + altitude * (-518.2 + altitude *\n",
    "                                  (103.4 + altitude *\n",
    "                                   (-12.79 + altitude * 0.711)))\n",
    "                else:\n",
    "\n",
    "                    atmos_refraction = -20.772 / math.tan(\n",
    "                        math.radians(altitude))\n",
    "\n",
    "        atmos_refraction /= 3600\n",
    "\n",
    "        altitude += atmos_refraction\n",
    "\n",
    "        # Degrees\n",
    "        if hour_angle > 0:\n",
    "            azimuth = (math.degrees(\n",
    "                math.acos(\n",
    "                    (\n",
    "                        (math.sin(self._latitude) *\n",
    "                         math.cos(math.radians(zenith))) -\n",
    "                        math.sin(math.radians(sol_dec))) /\n",
    "                    (math.cos(self._latitude) *\n",
    "                     math.sin(math.radians(zenith)))\n",
    "                )\n",
    "            ) + 180) % 360\n",
    "        else:\n",
    "            azimuth = (540 - math.degrees(math.acos((\n",
    "                (math.sin(self._latitude) *\n",
    "                 math.cos(math.radians(zenith))) -\n",
    "                math.sin(math.radians(sol_dec))) /\n",
    "                (math.cos(self._latitude) *\n",
    "                 math.sin(math.radians(zenith))))\n",
    "            )) % 360\n",
    "\n",
    "        altitude = math.radians(altitude)\n",
    "        azimuth = math.radians(azimuth)\n",
    "\"\"\"\n",
    "\n",
    "altitude"
   ]
  },
  {
   "cell_type": "code",
   "execution_count": 9,
   "metadata": {},
   "outputs": [
    {
     "data": {
      "text/plain": [
       "([297.85036, 445267.11148, -0.0019142, 189474.0], -0.10050414601110132)"
      ]
     },
     "execution_count": 9,
     "metadata": {},
     "output_type": "execute_result"
    }
   ],
   "source": []
  },
  {
   "cell_type": "code",
   "execution_count": null,
   "metadata": {},
   "outputs": [],
   "source": []
  },
  {
   "cell_type": "code",
   "execution_count": null,
   "metadata": {},
   "outputs": [],
   "source": []
  },
  {
   "cell_type": "code",
   "execution_count": null,
   "metadata": {},
   "outputs": [],
   "source": []
  },
  {
   "cell_type": "code",
   "execution_count": null,
   "metadata": {},
   "outputs": [],
   "source": []
  },
  {
   "cell_type": "code",
   "execution_count": 6,
   "metadata": {},
   "outputs": [
    {
     "data": {
      "text/plain": [
       "{'ArgumentOfLatitudeOfMoon': [93.27191, 483202.017538, -0.0036825, 327270.0],\n",
       " 'LongitudeOfAscendingNode': [125.04452, -1934.136261, 0.0020708, 450000.0],\n",
       " 'MeanElongationOfMoon': [297.85036, 445267.11148, -0.0019142, 189474.0],\n",
       " 'MeanAnomalyOfMoon': [134.96298, 477198.867398, 0.0086972, 56250.0],\n",
       " 'MeanAnomalyOfSun': [357.52772, 35999.05034, -0.0001603, -300000.0]}"
      ]
     },
     "execution_count": 6,
     "metadata": {},
     "output_type": "execute_result"
    }
   ],
   "source": [
    "sun.aberration_coefficients"
   ]
  },
  {
   "cell_type": "code",
   "execution_count": null,
   "metadata": {},
   "outputs": [],
   "source": []
  },
  {
   "cell_type": "code",
   "execution_count": 8,
   "metadata": {},
   "outputs": [
    {
     "data": {
      "text/plain": [
       "4.758750119987872"
      ]
     },
     "execution_count": 8,
     "metadata": {},
     "output_type": "execute_result"
    }
   ],
   "source": [
    "import math\n",
    "from datetime import datetime, timedelta, timezone\n",
    "\n",
    "d = datetime(1989, 12, 13, 14, 34, 21, tzinfo=timezone(timedelta(hours=0)))\n",
    "\n",
    "def get_julian_ephemeris_day(dt):\n",
    "    \"\"\"returns the TT Julian day number (including fraction of a day) corresponding to the specified date/time.\n",
    "    This version assumes the proleptic Gregorian calendar; trying to adjust for pre-Gregorian dates/times seems\n",
    "    pointless when the changeover happened over such wildly varying times in different regions.\n",
    "    \"\"\"\n",
    "    return ((dt.timestamp() + get_leap_seconds() + tt_offset) / seconds_per_day + gregorian_day_offset + julian_day_offset)\n",
    "\n",
    "\n",
    "def get_julian_century(julian_day):\n",
    "    return (julian_day - 2451545.0) / 36525.0\n",
    "\n",
    "def get_julian_ephemeris_century(julian_ephemeris_day):\n",
    "    return (julian_ephemeris_day - 2451545.0) / 36525.0\n",
    "\n",
    "def get_julian_ephemeris_millennium(julian_ephemeris_century):\n",
    "\n",
    "\n",
    "def equation_of_time(yday):\n",
    "    \"\"\"returns the number of minutes to add to mean solar time to get actual solar time.\"\"\"\n",
    "    b = 2 * math.pi / 364.0 * (yday - 81)\n",
    "    return 9.87 * math.sin(2 * b) - 7.53 * math.cos(b) - 1.5 * math.sin(b)\n",
    "\n",
    "\n",
    "\n",
    "def get_sun_earth_distance(jme):\n",
    "    return get_coeff(jme, constants.sun_earth_distance_coeffs) / 1e8\n",
    "\n",
    "def get_aberration_correction(sun_earth_distance):\n",
    "    \"\"\"sun-earth distance is in astronomical units\"\"\"\n",
    "    return -20.4898 / (3600.0 * sun_earth_distance)\n",
    "\n",
    "equation_of_time(d.timetuple().tm_yday)"
   ]
  },
  {
   "cell_type": "code",
   "execution_count": null,
   "metadata": {},
   "outputs": [],
   "source": []
  },
  {
   "cell_type": "code",
   "execution_count": null,
   "metadata": {},
   "outputs": [],
   "source": []
  },
  {
   "cell_type": "code",
   "execution_count": null,
   "metadata": {},
   "outputs": [],
   "source": []
  },
  {
   "cell_type": "code",
   "execution_count": null,
   "metadata": {},
   "outputs": [],
   "source": []
  },
  {
   "cell_type": "code",
   "execution_count": null,
   "metadata": {},
   "outputs": [],
   "source": []
  },
  {
   "cell_type": "code",
   "execution_count": null,
   "metadata": {},
   "outputs": [],
   "source": []
  },
  {
   "cell_type": "code",
   "execution_count": null,
   "metadata": {},
   "outputs": [],
   "source": []
  },
  {
   "cell_type": "code",
   "execution_count": null,
   "metadata": {},
   "outputs": [],
   "source": []
  },
  {
   "cell_type": "code",
   "execution_count": null,
   "metadata": {},
   "outputs": [],
   "source": []
  },
  {
   "cell_type": "code",
   "execution_count": null,
   "metadata": {},
   "outputs": [],
   "source": []
  },
  {
   "cell_type": "code",
   "execution_count": null,
   "metadata": {},
   "outputs": [],
   "source": []
  },
  {
   "cell_type": "code",
   "execution_count": null,
   "metadata": {},
   "outputs": [],
   "source": []
  },
  {
   "cell_type": "code",
   "execution_count": null,
   "metadata": {},
   "outputs": [],
   "source": []
  },
  {
   "cell_type": "code",
   "execution_count": null,
   "metadata": {},
   "outputs": [],
   "source": [
    "from IPython.core.display import HTML\n",
    "HTML(\"<script>Jupyter.notebook.kernel.restart()</script>\")"
   ]
  },
  {
   "cell_type": "code",
   "execution_count": 1,
   "metadata": {},
   "outputs": [],
   "source": [
    "%matplotlib inline\n",
    "import matplotlib.pyplot as plt\n",
    "import pysolar_ripoff\n",
    "import pandas as pd"
   ]
  },
  {
   "cell_type": "code",
   "execution_count": 6,
   "metadata": {},
   "outputs": [
    {
     "data": {
      "text/plain": [
       "<matplotlib.axes._subplots.AxesSubplot at 0x11d5e5ef0>"
      ]
     },
     "execution_count": 6,
     "metadata": {},
     "output_type": "execute_result"
    },
    {
     "data": {
      "image/png": "[encoded data removed]",
      "text/plain": [
       "<Figure size 432x288 with 1 Axes>"
      ]
     },
     "metadata": {
      "needs_background": "light"
     },
     "output_type": "display_data"
    }
   ],
   "source": [
    "%matplotlib inline\n",
    "import matplotlib.pyplot as plt\n",
    "import pysolar_ripoff\n",
    "import pandas as pd\n",
    "dts = pd.DatetimeIndex(start=\"1989-01-01 00:00\", end=\"1990-01-01 00:00\", freq=\"60T\", closed=\"left\")\n",
    "\n",
    "tz = 0\n",
    "lat = 0\n",
    "lon = 0\n",
    "\n",
    "alts = []\n",
    "azs = []\n",
    "for d in dts:\n",
    "    alts.append(pysolar_ripoff.Sun(\n",
    "        latitude = lat,\n",
    "        longitude = lon,\n",
    "        elevation = 0,\n",
    "        year = d.year,\n",
    "        month = d.month,\n",
    "        day = d.day,\n",
    "        hour = d.hour,\n",
    "        minute = d.minute,\n",
    "        second = 0,\n",
    "        microsecond = 0,\n",
    "        utc_offset = 1,\n",
    "    ).get_altitude_fast())\n",
    "#     azs.append(pysolar_ripoff.Sun(\n",
    "#         latitude = lat,\n",
    "#         longitude = lon,\n",
    "#         elevation = 0,\n",
    "#         year = d.year,\n",
    "#         month = d.month,\n",
    "#         day = d.day,\n",
    "#         hour = d.hour,\n",
    "#         minute = d.minute,\n",
    "#         second = 0,\n",
    "#         microsecond = 0,\n",
    "#         utc_offset = 1,\n",
    "#     ).get_azimuth_fast())\n",
    "\n",
    "pd.Series(alts).plot()"
   ]
  },
  {
   "cell_type": "code",
   "execution_count": null,
   "metadata": {},
   "outputs": [],
   "source": [
    "sun.get_azimuth_fast()"
   ]
  },
  {
   "cell_type": "code",
   "execution_count": null,
   "metadata": {},
   "outputs": [],
   "source": []
  },
  {
   "cell_type": "code",
   "execution_count": null,
   "metadata": {},
   "outputs": [],
   "source": []
  },
  {
   "cell_type": "code",
   "execution_count": null,
   "metadata": {},
   "outputs": [],
   "source": []
  },
  {
   "cell_type": "code",
   "execution_count": null,
   "metadata": {},
   "outputs": [],
   "source": []
  },
  {
   "cell_type": "code",
   "execution_count": null,
   "metadata": {},
   "outputs": [],
   "source": []
  },
  {
   "cell_type": "code",
   "execution_count": null,
   "metadata": {},
   "outputs": [],
   "source": []
  },
  {
   "cell_type": "code",
   "execution_count": null,
   "metadata": {},
   "outputs": [],
   "source": [
    "from datetime import datetime, timedelta, timezone\n",
    "d = datetime(1989, 8, 13, 14, 31, 22, 134, tzinfo=timezone(timedelta(hours=3)))\n",
    "d.utctimetuple()"
   ]
  },
  {
   "cell_type": "code",
   "execution_count": null,
   "metadata": {},
   "outputs": [],
   "source": []
  },
  {
   "cell_type": "code",
   "execution_count": null,
   "metadata": {},
   "outputs": [],
   "source": []
  },
  {
   "cell_type": "code",
   "execution_count": null,
   "metadata": {},
   "outputs": [],
   "source": []
  },
  {
   "cell_type": "code",
   "execution_count": null,
   "metadata": {},
   "outputs": [],
   "source": []
  },
  {
   "cell_type": "code",
   "execution_count": null,
   "metadata": {},
   "outputs": [],
   "source": [
    "\n",
    "\n",
    "\n",
    "def get_leap_seconds(when):\n",
    "    \"returns adjustment to be added to UTC at the specified datetime to produce TAI.\"\n",
    "    when = when.utctimetuple()\n",
    "    adj = 10 # as decreed from 1972\n",
    "    year = leap_seconds_base_year\n",
    "    while True :\n",
    "        if year > when.tm_year :\n",
    "            break\n",
    "        if year - leap_seconds_base_year >= len(leap_seconds_adjustments) :\n",
    "            if (\n",
    "                    when.tm_year - leap_seconds_base_year > len(leap_seconds_adjustments)\n",
    "                or\n",
    "                        when.tm_year - leap_seconds_base_year == len(leap_seconds_adjustments)\n",
    "                    and\n",
    "                        when.tm_mon > 6\n",
    "            ) :\n",
    "                warnings.warn \\\n",
    "                  (\n",
    "                        \"I don't know about leap seconds after %d\"\n",
    "                    %\n",
    "                        (leap_seconds_base_year + len(leap_seconds_adjustments) - 1)\n",
    "                  )\n",
    "            #end if\n",
    "            break\n",
    "        #end if\n",
    "        entry = leap_seconds_adjustments[year - leap_seconds_base_year]\n",
    "        if year == when.tm_year :\n",
    "            if when.tm_mon > 6 :\n",
    "                adj += entry[0]\n",
    "            #end if\n",
    "            break\n",
    "        #end if\n",
    "        adj += entry[0] + entry[1]\n",
    "        year += 1\n",
    "    #end while\n",
    "    return \\\n",
    "        adj\n",
    "#end get_leap_seconds\n",
    "\n",
    "d = datetime.datetime(2018, 1, 1, 0, 0, 0)\n",
    "\n",
    "get_leap_seconds(d)"
   ]
  }
 ],
 "metadata": {
  "kernelspec": {
   "display_name": "Python 3",
   "language": "python",
   "name": "python3"
  },
  "language_info": {
   "codemirror_mode": {
    "name": "ipython",
    "version": 3
   },
   "file_extension": ".py",
   "mimetype": "text/x-python",
   "name": "python",
   "nbconvert_exporter": "python",
   "pygments_lexer": "ipython3",
   "version": "3.7.0"
  }
 },
 "nbformat": 4,
 "nbformat_minor": 2
}
